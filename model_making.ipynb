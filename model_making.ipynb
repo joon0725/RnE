{
 "cells": [
  {
   "cell_type": "code",
   "execution_count": null,
   "metadata": {},
   "outputs": [],
   "source": [
    "# 모델 만드는  메인 파일\n",
    "\n",
    "# TODO\n",
    "# 영상\n",
    "# -> 수지신호 특징점 프레임(들) / 비수지신호 특징점 프레임(들)\n",
    "# -> 수지신호 벡터 / 비수지신호 벡터\n",
    "# -> 둘이 합쳐진 벡터\n",
    "\n",
    "# -> 원본 단어를 해석한 벡터와 비교해서 학습\n",
    "\n",
    "\n",
    "# Word2Vec은 원본 단어 -> 학습용 벡터\n",
    "# 학습된 모델에서 나온 벡터 -> 단어로 바꾸는데도 ㄱㄱ"
   ]
  }
 ],
 "metadata": {
  "kernelspec": {
   "display_name": "Python 3.10.6 64-bit",
   "language": "python",
   "name": "python3"
  },
  "language_info": {
   "name": "python",
   "version": "3.10.6"
  },
  "orig_nbformat": 4,
  "vscode": {
   "interpreter": {
    "hash": "b0fa6594d8f4cbf19f97940f81e996739fb7646882a419484c72d19e05852a7e"
   }
  }
 },
 "nbformat": 4,
 "nbformat_minor": 2
}
