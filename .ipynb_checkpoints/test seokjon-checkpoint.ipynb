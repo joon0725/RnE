{
 "cells": [
  {
   "cell_type": "code",
   "execution_count": null,
   "id": "227e9a80",
   "metadata": {},
   "outputs": [],
   "source": [
    "import tensorflow as tf\n",
    "from tensorflow import keras\n",
    "import numpy as np\n",
    "import matplotlib.pyplot as plt\n",
    "\n",
    "def draw_img(x) :\n",
    "  plt.figure()\n",
    "  plt.imshow(x)\n",
    "  plt.show()\n",
    "\n",
    "(cx_train, cy_train), (cx_test, cy_test) = tf.keras.datasets.cifar100.load_data(label_mode=\"fine\")\n",
    "cx_train, cx_test = cx_train/255.0, cx_test/255.0\n",
    "classes = [\n",
    "#    'apple', 'aquarium_fish', 'baby', 'bear', 'beaver', 'bed', 'bee', 'beetle',\n",
    "#    'bicycle', 'bottle', 'bowl', 'boy', 'bridge', 'bus', 'butterfly', 'camel',\n",
    "#    'can', 'castle', 'caterpillar', 'cattle', 'chair', 'chimpanzee', 'clock',\n",
    "#    'cloud', 'cockroach', 'couch', 'crab', 'crocodile', 'cup', 'dinosaur',\n",
    "#    'dolphin', 'elephant', 'flatfish', 'forest', 'fox', 'girl', 'hamster',\n",
    "#    'house', 'kangaroo', 'keyboard', 'lamp', 'lawn_mower', 'leopard', 'lion',\n",
    "#    'lizard', 'lobster', 'man', 'maple_tree', 'motorcycle', 'mountain', 'mouse',\n",
    "#    'mushroom', 'oak_tree', 'orange', 'orchid', 'otter', 'palm_tree', 'pear',\n",
    "#    'pickup_truck', 'pine_tree', 'plain', 'plate', 'poppy', 'porcupine',\n",
    "#    'possum', 'rabbit', 'raccoon', 'ray', 'road', 'rocket', 'rose',\n",
    "#    'sea', 'seal', 'shark', 'shrew', 'skunk', 'skyscraper', 'snail', 'snake',\n",
    "#    'spider', 'squirrel', 'streetcar', 'sunflower', 'sweet_pepper', 'table',\n",
    "#    'tank', 'telephone', 'television', 'tiger', 'tractor', 'train', 'trout',\n",
    "#    'tulip', 'turtle', 'wardrobe', 'whale', 'willow_tree', 'wolf', 'woman',\n",
    "#    'worm'\n",
    "# 구글 번역기로 위 내용을 한국어로 번역\n",
    "    '사과', '수족관 물고기', '아기', '곰', '비버', '침대', '꿀벌', '딱정벌레',\n",
    "    '자전거', '병', '그릇', '소년', '다리', '버스', '나비', '낙타',\n",
    "    '캔', '성', '애벌레', '소', '의자', '침팬지', '시계',\n",
    "    '구름','바퀴벌레','소파','게','악어','컵','공룡',\n",
    "    '돌고래', '코끼리', '가자미','숲','여우','소녀','햄스터',\n",
    "    '집', '캥거루', '키보드', '램프', '잔디깎기', '표범', '사자',\n",
    "    '도마뱀', '랍스터', '사람', '매이플트리', '오토바이', '산', '마우스',\n",
    "    '버섯', '오크트리', '오렌지', '난초', '수달', '팜트리', '배',\n",
    "    '픽업트럭', '소나무', '평지', '접시', '양귀비', '호저',\n",
    "    '주머니쥐', '토끼', '너구리', '레이', '도로', '로켓', '장미',\n",
    "    '바다', '인감', '상어', '뒤쥐', '스컹크', '고층건물', '달팽이', '뱀',\n",
    "    '거미', '다람쥐', '전차', '해바라기', '단고추', '테이블',\n",
    "    '탱크', '전화', '텔레비전', '호랑이', '트랙터', '기차', '송어',\n",
    "    '튤립', '거북이', '옷장', '고래', '버드나무', '늑대', '여자',\n",
    "    '벌레'\n",
    "]"
   ]
  },
  {
   "cell_type": "code",
   "execution_count": null,
   "id": "31b1b983",
   "metadata": {},
   "outputs": [],
   "source": [
    "idx = np.random.randint(0,9999)\n",
    "draw_img(cx_test[idx])\n",
    "print(classes[cy_test[idx][0]])"
   ]
  },
  {
   "cell_type": "code",
   "execution_count": null,
   "id": "085c3ccb",
   "metadata": {},
   "outputs": [],
   "source": [
    "model = tf.keras.models.Sequential()\n",
    "model.add(tf.keras.layers.Conv2D(32, kernel_size=(3, 3), activation='relu', kernel_initializer='he_uniform', input_shape=(32,32,3)))\n",
    "model.add(tf.keras.layers.BatchNormalization())\n",
    "model.add(tf.keras.layers.Conv2D(32, kernel_size=(3, 3), kernel_initializer='he_uniform', activation='relu'))\n",
    "model.add(tf.keras.layers.BatchNormalization())\n",
    "model.add(tf.keras.layers.MaxPooling2D(pool_size=(2, 2)))\n",
    "model.add(tf.keras.layers.Dropout(0.25))\n",
    "model.add(tf.keras.layers.Conv2D(64, kernel_size=(3, 3), kernel_initializer='he_uniform', activation='relu'))\n",
    "model.add(tf.keras.layers.BatchNormalization())\n",
    "model.add(tf.keras.layers.Conv2D(128, kernel_size=(3, 3), kernel_initializer='he_uniform', activation='relu'))\n",
    "model.add(tf.keras.layers.BatchNormalization())\n",
    "model.add(tf.keras.layers.MaxPooling2D(pool_size=(2, 2)))\n",
    "model.add(tf.keras.layers.Dropout(0.25))\n",
    "model.add(tf.keras.layers.Flatten())\n",
    "model.add(tf.keras.layers.Dense(512, activation='relu'))\n",
    "model.add(tf.keras.layers.Dropout(0.5))\n",
    "model.add(tf.keras.layers.Dense(100, activation='softmax'))\n",
    "opt = tf.keras.optimizers.Adam(lr=0.01)\n",
    "model.compile(optimizer=opt, loss=\"sparse_categorical_crossentropy\", metrics=[\"accuracy\"])\n",
    "model.summary()\n",
    "tf.keras.utils.plot_model(model, to_file=\"/home/q/RnE/model.png\", show_shapes=True) # https://www.tensorflow.org/tutorials/images/segmentation?hl=ko"
   ]
  },
  {
   "cell_type": "code",
   "execution_count": null,
   "id": "c2ac4d96",
   "metadata": {},
   "outputs": [],
   "source": [
    "# history = model.fit(cx_train, cy_train, epochs=5)\n",
    "# for tensorboard\n",
    "history = model.fit(cx_train, cy_train, batch_size=4096, epochs=100, validation_data=(cx_test, cy_test))\n",
    "# 모델 저장, 훈련 후 다운로드를 받아두어야 나중에 업로드하여 재사용 가능함.\n",
    "model.save(\"/home/q/RnE/cifar100.h5\")"
   ]
  },
  {
   "cell_type": "code",
   "execution_count": null,
   "id": "bc6cd52f",
   "metadata": {},
   "outputs": [],
   "source": [
    "# Plot training & validation accuracy values\n",
    "plt.plot(history.history['accuracy'])\n",
    "plt.title('Model accuracy')\n",
    "plt.ylabel('Accuracy')\n",
    "plt.xlabel('Epoch')\n",
    "plt.legend(['Train', 'Test'], loc='upper left')\n",
    "plt.show()\n",
    "\n",
    "# Plot training & validation loss values\n",
    "plt.plot(history.history['loss'])\n",
    "plt.title('Model loss')\n",
    "plt.ylabel('Loss')\n",
    "plt.xlabel('Epoch')\n",
    "plt.legend(['Train', 'Test'], loc='upper left')\n",
    "plt.show()"
   ]
  },
  {
   "cell_type": "code",
   "execution_count": null,
   "id": "af03a3df",
   "metadata": {},
   "outputs": [],
   "source": []
  },
  {
   "cell_type": "code",
   "execution_count": null,
   "id": "1dfe8a5f",
   "metadata": {},
   "outputs": [],
   "source": []
  },
  {
   "cell_type": "code",
   "execution_count": null,
   "id": "70d9d46d",
   "metadata": {},
   "outputs": [],
   "source": []
  },
  {
   "cell_type": "code",
   "execution_count": null,
   "id": "b849e5f9",
   "metadata": {},
   "outputs": [],
   "source": []
  },
  {
   "cell_type": "code",
   "execution_count": null,
   "id": "52901e9d",
   "metadata": {},
   "outputs": [],
   "source": []
  },
  {
   "cell_type": "code",
   "execution_count": null,
   "id": "3c24e73d",
   "metadata": {},
   "outputs": [],
   "source": []
  },
  {
   "cell_type": "code",
   "execution_count": null,
   "id": "33fcae09",
   "metadata": {},
   "outputs": [],
   "source": []
  }
 ],
 "metadata": {
  "kernelspec": {
   "display_name": "Python 3 (ipykernel)",
   "language": "python",
   "name": "python3"
  },
  "language_info": {
   "codemirror_mode": {
    "name": "ipython",
    "version": 3
   },
   "file_extension": ".py",
   "mimetype": "text/x-python",
   "name": "python",
   "nbconvert_exporter": "python",
   "pygments_lexer": "ipython3",
   "version": "3.10.6"
  }
 },
 "nbformat": 4,
 "nbformat_minor": 5
}
