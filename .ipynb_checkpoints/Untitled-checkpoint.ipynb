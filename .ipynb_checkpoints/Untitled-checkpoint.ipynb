{
 "cells": [
  {
   "cell_type": "code",
   "execution_count": 23,
   "id": "d70f1aae",
   "metadata": {},
   "outputs": [],
   "source": [
    "import cv2"
   ]
  },
  {
   "cell_type": "code",
   "execution_count": 39,
   "id": "82fed657",
   "metadata": {},
   "outputs": [],
   "source": [
    "cap = cv2.VideoCapture(\"./dataset/01/00_01.MP4\")"
   ]
  },
  {
   "cell_type": "code",
   "execution_count": 40,
   "id": "d1eb3e6c",
   "metadata": {},
   "outputs": [],
   "source": [
    "max_len = 150"
   ]
  },
  {
   "cell_type": "code",
   "execution_count": 37,
   "id": "2ee93e5c",
   "metadata": {},
   "outputs": [
    {
     "name": "stdout",
     "output_type": "stream",
     "text": [
      "1280.0\n",
      "720.0\n",
      "29.804340027044677\n"
     ]
    }
   ],
   "source": [
    "width = cap.get(cv2.CAP_PROP_FRAME_WIDTH)\n",
    "height = cap.get(cv2.CAP_PROP_FRAME_HEIGHT)\n",
    "fps = cap.get(cv2.CAP_PROP_FPS)\n",
    "print(width)\n",
    "print(height)\n",
    "print(fps)"
   ]
  },
  {
   "cell_type": "code",
   "execution_count": 41,
   "id": "b737b257",
   "metadata": {},
   "outputs": [
    {
     "name": "stdout",
     "output_type": "stream",
     "text": [
      "150\n"
     ]
    }
   ],
   "source": [
    "frames = []\n",
    "\n",
    "ftime = 0\n",
    "fgap = 1\n",
    "if int(fps) > 15:\n",
    "    fgap = 2\n",
    "    \n",
    "while(cap.isOpened()):\n",
    "    ret, image = cap.read()\n",
    "    if not ret:\n",
    "        break\n",
    "\n",
    "    if ftime % fgap == 0:\n",
    "        frames.append(image)\n",
    "    ftime += 1\n",
    "    \n",
    "while(len(frames) < max_len):\n",
    "    frames.append(0)\n",
    "\n",
    "print(len(frames))"
   ]
  },
  {
   "cell_type": "code",
   "execution_count": 45,
   "id": "10a3c5c1",
   "metadata": {},
   "outputs": [],
   "source": [
    "import cv2\n",
    "\n",
    "def getFrames(wnum, seq):\n",
    "    cap = cv2.VideoCapture(f\"./dataset/{str(wnum).zfill(2)}/{str(seq).zfill(2)}_{str(wnum).zfill(2)}.MP4\")\n",
    "    max_len = 150\n",
    "\n",
    "    width = cap.get(cv2.CAP_PROP_FRAME_WIDTH)\n",
    "    height = cap.get(cv2.CAP_PROP_FRAME_HEIGHT)\n",
    "    fps = cap.get(cv2.CAP_PROP_FPS)\n",
    "\n",
    "    frames = []\n",
    "\n",
    "    ftime = 0\n",
    "    fgap = 1\n",
    "    if int(fps) > 15:\n",
    "        fgap = 2\n",
    "\n",
    "    while(cap.isOpened()):\n",
    "        ret, image = cap.read()\n",
    "        if not ret:\n",
    "            break\n",
    "\n",
    "        if ftime % fgap == 0:\n",
    "            frames.append(image)\n",
    "        ftime += 1\n",
    "\n",
    "    while(len(frames) < max_len):\n",
    "        frames.append(0)\n",
    "\n",
    "    return frames"
   ]
  },
  {
   "cell_type": "code",
   "execution_count": null,
   "id": "5ffab108",
   "metadata": {},
   "outputs": [],
   "source": []
  },
  {
   "cell_type": "code",
   "execution_count": 49,
   "id": "dfab2988",
   "metadata": {},
   "outputs": [
    {
     "name": "stdout",
     "output_type": "stream",
     "text": [
      "720\n"
     ]
    }
   ],
   "source": [
    "print(len(f[0]))"
   ]
  },
  {
   "cell_type": "code",
   "execution_count": 50,
   "id": "16af8b72",
   "metadata": {},
   "outputs": [
    {
     "name": "stdout",
     "output_type": "stream",
     "text": [
      "1280\n"
     ]
    }
   ],
   "source": [
    "print(len(f[0][0]))"
   ]
  },
  {
   "cell_type": "code",
   "execution_count": null,
   "id": "a5ae7ac3",
   "metadata": {},
   "outputs": [],
   "source": []
  }
 ],
 "metadata": {
  "kernelspec": {
   "display_name": "Python 3 (ipykernel)",
   "language": "python",
   "name": "python3"
  },
  "language_info": {
   "codemirror_mode": {
    "name": "ipython",
    "version": 3
   },
   "file_extension": ".py",
   "mimetype": "text/x-python",
   "name": "python",
   "nbconvert_exporter": "python",
   "pygments_lexer": "ipython3",
   "version": "3.10.6"
  }
 },
 "nbformat": 4,
 "nbformat_minor": 5
}
