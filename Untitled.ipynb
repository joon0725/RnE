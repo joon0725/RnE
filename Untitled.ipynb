{
 "cells": [
  {
   "cell_type": "code",
   "execution_count": 23,
   "id": "d70f1aae",
   "metadata": {},
   "outputs": [],
   "source": [
    "import cv2"
   ]
  },
  {
   "cell_type": "code",
   "execution_count": 39,
   "id": "82fed657",
   "metadata": {},
   "outputs": [],
   "source": [
    "cap = cv2.VideoCapture(\"./dataset/01/00_01.MP4\")"
   ]
  },
  {
   "cell_type": "code",
   "execution_count": 40,
   "id": "be687a04",
   "metadata": {},
   "outputs": [],
   "source": [
    "max_len = 150"
   ]
  },
  {
   "cell_type": "code",
   "execution_count": 37,
   "id": "2ee93e5c",
   "metadata": {},
   "outputs": [
    {
     "name": "stdout",
     "output_type": "stream",
     "text": [
      "1280.0\n",
      "720.0\n",
      "29.804340027044677\n"
     ]
    }
   ],
   "source": [
    "width = cap.get(cv2.CAP_PROP_FRAME_WIDTH)\n",
    "height = cap.get(cv2.CAP_PROP_FRAME_HEIGHT)\n",
    "fps = cap.get(cv2.CAP_PROP_FPS)\n",
    "print(width)\n",
    "print(height)\n",
    "print(fps)"
   ]
  },
  {
   "cell_type": "code",
   "execution_count": 41,
   "id": "b737b257",
   "metadata": {},
   "outputs": [
    {
     "name": "stdout",
     "output_type": "stream",
     "text": [
      "150\n"
     ]
    }
   ],
   "source": [
    "frames = []\n",
    "\n",
    "ftime = 0\n",
    "fgap = 1\n",
    "if int(fps) > 15:\n",
    "    fgap = 2\n",
    "    \n",
    "while(cap.isOpened()):\n",
    "    ret, image = cap.read()\n",
    "    if not ret:\n",
    "        break\n",
    "\n",
    "    if ftime % fgap == 0:\n",
    "        frames.append(image)\n",
    "    ftime += 1\n",
    "    \n",
    "while(len(frames) < max_len):\n",
    "    frames.append(0)\n",
    "\n",
    "print(len(frames))"
   ]
  },
  {
   "cell_type": "code",
   "execution_count": 54,
   "id": "10a3c5c1",
   "metadata": {},
   "outputs": [],
   "source": [
    "import cv2\n",
    "\n",
    "def getFrames(wnum, seq):\n",
    "    cap = cv2.VideoCapture(f\"./dataset/{str(wnum).zfill(2)}/{str(seq).zfill(2)}_{str(wnum).zfill(2)}.MP4\")\n",
    "    max_len = 150\n",
    "\n",
    "    width = cap.get(cv2.CAP_PROP_FRAME_WIDTH)\n",
    "    height = cap.get(cv2.CAP_PROP_FRAME_HEIGHT)\n",
    "    fps = cap.get(cv2.CAP_PROP_FPS)\n",
    "\n",
    "    frames = []\n",
    "\n",
    "    ftime = 0\n",
    "    fgap = 1\n",
    "    if int(fps) > 15:\n",
    "        fgap = 2\n",
    "\n",
    "    while(cap.isOpened()):\n",
    "        ret, image = cap.read()\n",
    "        if not ret:\n",
    "            break\n",
    "\n",
    "        if ftime % fgap == 0:\n",
    "            image = cv2.normalize(src=image, dst=None, alpha=0, beta=255, norm_type=cv2.NORM_MINMAX, dtype=cv2.CV_8U)\n",
    "            frames.append(image)\n",
    "        ftime += 1\n",
    "\n",
    "    while(len(frames) < max_len):\n",
    "        frames.append(0)\n",
    "\n",
    "    return frames"
   ]
  },
  {
   "cell_type": "code",
   "execution_count": 59,
   "id": "e8609df7",
   "metadata": {},
   "outputs": [],
   "source": [
    "img = getFrames(1,0)[0]"
   ]
  },
  {
   "cell_type": "code",
   "execution_count": 60,
   "id": "90ac095a",
   "metadata": {},
   "outputs": [
    {
     "name": "stdout",
     "output_type": "stream",
     "text": [
      "[[[ 51  71  70]\n",
      "  [ 51  71  70]\n",
      "  [ 55  72  70]\n",
      "  ...\n",
      "  [178 191 211]\n",
      "  [177 191 207]\n",
      "  [174 188 204]]\n",
      "\n",
      " [[ 51  71  70]\n",
      "  [ 52  72  71]\n",
      "  [ 56  73  71]\n",
      "  ...\n",
      "  [181 194 214]\n",
      "  [176 190 206]\n",
      "  [172 186 202]]\n",
      "\n",
      " [[ 59  67  68]\n",
      "  [ 60  68  69]\n",
      "  [ 61  70  69]\n",
      "  ...\n",
      "  [183 196 216]\n",
      "  [179 192 211]\n",
      "  [178 191 210]]\n",
      "\n",
      " ...\n",
      "\n",
      " [[ 30  28  45]\n",
      "  [ 31  29  46]\n",
      "  [ 29  32  48]\n",
      "  ...\n",
      "  [  6   4  15]\n",
      "  [  8   5  18]\n",
      "  [  8   5  18]]\n",
      "\n",
      " [[ 30  25  50]\n",
      "  [ 31  26  51]\n",
      "  [ 29  30  52]\n",
      "  ...\n",
      "  [  7   1  13]\n",
      "  [  8   2  14]\n",
      "  [ 10   4  16]]\n",
      "\n",
      " [[ 26  21  46]\n",
      "  [ 27  22  47]\n",
      "  [ 25  26  48]\n",
      "  ...\n",
      "  [  4   0  10]\n",
      "  [  5   0  11]\n",
      "  [  6   0  12]]]\n"
     ]
    }
   ],
   "source": [
    "print(img)"
   ]
  },
  {
   "cell_type": "code",
   "execution_count": null,
   "id": "a13f60e0",
   "metadata": {},
   "outputs": [],
   "source": []
  },
  {
   "cell_type": "code",
   "execution_count": null,
   "id": "497598c1",
   "metadata": {},
   "outputs": [],
   "source": []
  }
 ],
 "metadata": {
  "kernelspec": {
   "display_name": "Python 3 (ipykernel)",
   "language": "python",
   "name": "python3"
  },
  "language_info": {
   "codemirror_mode": {
    "name": "ipython",
    "version": 3
   },
   "file_extension": ".py",
   "mimetype": "text/x-python",
   "name": "python",
   "nbconvert_exporter": "python",
   "pygments_lexer": "ipython3",
   "version": "3.10.6"
  }
 },
 "nbformat": 4,
 "nbformat_minor": 5
}
