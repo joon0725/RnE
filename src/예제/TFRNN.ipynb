{
 "cells": [
  {
   "cell_type": "code",
   "execution_count": 1,
   "metadata": {
    "collapsed": true
   },
   "outputs": [],
   "source": [
    "import Keypoints\n",
    "import numpy as np\n",
    "import tensorflow.keras as keras\n",
    "from tensorflow.keras import layers\n",
    "import random"
   ]
  },
  {
   "cell_type": "code",
   "execution_count": 2,
   "outputs": [
    {
     "name": "stdout",
     "output_type": "stream",
     "text": [
      "[2 1 1 0 2 0 0 1 1 0 0 2 2 2 1]\n"
     ]
    }
   ],
   "source": [
    "seed = [*range(15)]\n",
    "random.shuffle(seed)\n",
    "label = np.array([i for i in range(3) for _ in range(5)])\n",
    "label = np.array(label[seed])\n",
    "print(label)\n",
    "cnt = 0\n",
    "r = ['D', 'F', 'L', 'R', 'U']\n",
    "li = np.array([])"
   ],
   "metadata": {
    "collapsed": false,
    "pycharm": {
     "name": "#%%\n"
    }
   }
  },
  {
   "cell_type": "code",
   "execution_count": 3,
   "outputs": [
    {
     "name": "stderr",
     "output_type": "stream",
     "text": [
      "INFO: Created TensorFlow Lite XNNPACK delegate for CPU.\n"
     ]
    },
    {
     "name": "stdout",
     "output_type": "stream",
     "text": [
      "Data Loading... 1/15\n",
      "Data Loading... 2/15\n",
      "Data Loading... 3/15\n",
      "Data Loading... 4/15\n",
      "Data Loading... 5/15\n",
      "Data Loading... 6/15\n",
      "Data Loading... 7/15\n",
      "Data Loading... 8/15\n",
      "Data Loading... 9/15\n",
      "Data Loading... 10/15\n",
      "Data Loading... 11/15\n",
      "Data Loading... 12/15\n",
      "Data Loading... 13/15\n",
      "Data Loading... 14/15\n",
      "Data Loading... 15/15\n"
     ]
    }
   ],
   "source": [
    "for k in [1, 6, 28]:\n",
    "    for i in r:\n",
    "        cnt += 1\n",
    "        a, b, c = map(np.array, Keypoints.getkey_from_vid(f'./원시데이터/NIA_SL_SEN000{k}_REAL01_{i}.mp4'))\n",
    "        print(f\"Data Loading... {cnt}/{15}\")\n",
    "        data = np.concatenate([a, b, c], axis=1)\n",
    "        data = np.array([data[-20:-5][:]])\n",
    "        if i == 'D' and k == 1:\n",
    "            li = data\n",
    "        else:\n",
    "            li = np.vstack([li, data])\n",
    "li = np.array(li[seed])"
   ],
   "metadata": {
    "collapsed": false,
    "pycharm": {
     "name": "#%%\n"
    }
   }
  },
  {
   "cell_type": "code",
   "execution_count": 35,
   "outputs": [],
   "source": [
    "cnt = 0\n",
    "val_label = [0, 1, 2]\n",
    "for i in [1, 6, 28]:\n",
    "    cnt += 1\n",
    "    a, b, c = map(np.array, Keypoints.getkey_from_vid(f'./validation/0{i}.mp4'))\n",
    "    data = np.concatenate([a, b, c], axis=1)\n",
    "    data = np.array([data[-20:-5][:]])\n",
    "    if cnt == 1:\n",
    "        val_li = data\n",
    "    else:\n",
    "        val_li = np.vstack([val_li, data])"
   ],
   "metadata": {
    "collapsed": false,
    "pycharm": {
     "name": "#%%\n"
    }
   }
  },
  {
   "cell_type": "code",
   "execution_count": 4,
   "outputs": [
    {
     "data": {
      "text/plain": "(15, 15, 167)"
     },
     "execution_count": 4,
     "metadata": {},
     "output_type": "execute_result"
    }
   ],
   "source": [
    "li.shape"
   ],
   "metadata": {
    "collapsed": false,
    "pycharm": {
     "name": "#%%\n"
    }
   }
  },
  {
   "cell_type": "code",
   "execution_count": 38,
   "outputs": [
    {
     "data": {
      "text/plain": "(3, 15, 167)"
     },
     "execution_count": 38,
     "metadata": {},
     "output_type": "execute_result"
    }
   ],
   "source": [
    "val_li.shape"
   ],
   "metadata": {
    "collapsed": false,
    "pycharm": {
     "name": "#%%\n"
    }
   }
  },
  {
   "cell_type": "code",
   "execution_count": 43,
   "outputs": [
    {
     "data": {
      "text/plain": "(3,)"
     },
     "execution_count": 43,
     "metadata": {},
     "output_type": "execute_result"
    }
   ],
   "source": [
    "val_label = np.array(val_label)\n",
    "val_label.shape"
   ],
   "metadata": {
    "collapsed": false,
    "pycharm": {
     "name": "#%%\n"
    }
   }
  },
  {
   "cell_type": "code",
   "execution_count": 5,
   "outputs": [
    {
     "name": "stdout",
     "output_type": "stream",
     "text": [
      "[[0. 0. 1.]\n",
      " [0. 1. 0.]\n",
      " [0. 1. 0.]\n",
      " [1. 0. 0.]\n",
      " [0. 0. 1.]\n",
      " [1. 0. 0.]\n",
      " [1. 0. 0.]\n",
      " [0. 1. 0.]\n",
      " [0. 1. 0.]\n",
      " [1. 0. 0.]\n",
      " [1. 0. 0.]\n",
      " [0. 0. 1.]\n",
      " [0. 0. 1.]\n",
      " [0. 0. 1.]\n",
      " [0. 1. 0.]]\n"
     ]
    },
    {
     "data": {
      "text/plain": "(15, 3)"
     },
     "execution_count": 5,
     "metadata": {},
     "output_type": "execute_result"
    }
   ],
   "source": [
    "from tensorflow.keras.utils import to_categorical\n",
    "label = to_categorical(label)\n",
    "print(label)\n",
    "label.shape"
   ],
   "metadata": {
    "collapsed": false,
    "pycharm": {
     "name": "#%%\n"
    }
   }
  },
  {
   "cell_type": "code",
   "execution_count": 44,
   "outputs": [],
   "source": [
    "val_label = to_categorical(val_label)"
   ],
   "metadata": {
    "collapsed": false,
    "pycharm": {
     "name": "#%%\n"
    }
   }
  },
  {
   "cell_type": "code",
   "execution_count": 46,
   "outputs": [
    {
     "name": "stdout",
     "output_type": "stream",
     "text": [
      "Model: \"sequential_12\"\n",
      "_________________________________________________________________\n",
      " Layer (type)                Output Shape              Param #   \n",
      "=================================================================\n",
      " gru_15 (GRU)                (None, 32)                19296     \n",
      "                                                                 \n",
      " dense_22 (Dense)            (None, 64)                2112      \n",
      "                                                                 \n",
      " dropout_11 (Dropout)        (None, 64)                0         \n",
      "                                                                 \n",
      " dense_23 (Dense)            (None, 3)                 195       \n",
      "                                                                 \n",
      "=================================================================\n",
      "Total params: 21,603\n",
      "Trainable params: 21,603\n",
      "Non-trainable params: 0\n",
      "_________________________________________________________________\n"
     ]
    }
   ],
   "source": [
    "import tensorflow as tf\n",
    "\n",
    "with tf.device(\"/CPU:0\"):\n",
    "    model = keras.Sequential()\n",
    "    model.add(layers.GRU(32, input_shape=(15, 167)))\n",
    "    model.add(layers.Dense(64, activation='relu'))\n",
    "    model.add(layers.Dropout(0.3))\n",
    "    model.add(layers.Dense(3, activation='softmax'))\n",
    "    model.compile(optimizer='adam', loss='categorical_crossentropy', metrics=['acc'])\n",
    "    model.summary()"
   ],
   "metadata": {
    "collapsed": false,
    "pycharm": {
     "name": "#%%\n"
    }
   }
  },
  {
   "cell_type": "code",
   "execution_count": 47,
   "outputs": [
    {
     "name": "stdout",
     "output_type": "stream",
     "text": [
      "Epoch 1/100\n",
      "1/1 [==============================] - 1s 1s/step - loss: 1.0992 - acc: 0.6000 - val_loss: 1.1018 - val_acc: 0.3333\n",
      "Epoch 2/100\n",
      "1/1 [==============================] - 0s 26ms/step - loss: 1.0944 - acc: 0.5333 - val_loss: 1.1000 - val_acc: 0.3333\n",
      "Epoch 3/100\n",
      "1/1 [==============================] - 0s 26ms/step - loss: 1.0924 - acc: 0.5333 - val_loss: 1.0980 - val_acc: 0.3333\n",
      "Epoch 4/100\n",
      "1/1 [==============================] - 0s 29ms/step - loss: 1.0910 - acc: 0.5333 - val_loss: 1.0959 - val_acc: 0.6667\n",
      "Epoch 5/100\n",
      "1/1 [==============================] - 0s 25ms/step - loss: 1.0851 - acc: 0.6667 - val_loss: 1.0939 - val_acc: 0.6667\n",
      "Epoch 6/100\n",
      "1/1 [==============================] - 0s 26ms/step - loss: 1.0823 - acc: 0.5333 - val_loss: 1.0921 - val_acc: 0.6667\n",
      "Epoch 7/100\n",
      "1/1 [==============================] - 0s 27ms/step - loss: 1.0834 - acc: 0.4667 - val_loss: 1.0903 - val_acc: 0.6667\n",
      "Epoch 8/100\n",
      "1/1 [==============================] - 0s 23ms/step - loss: 1.0756 - acc: 0.6667 - val_loss: 1.0888 - val_acc: 0.6667\n",
      "Epoch 9/100\n",
      "1/1 [==============================] - 0s 25ms/step - loss: 1.0762 - acc: 0.4667 - val_loss: 1.0874 - val_acc: 0.6667\n",
      "Epoch 10/100\n",
      "1/1 [==============================] - 0s 24ms/step - loss: 1.0678 - acc: 0.6667 - val_loss: 1.0858 - val_acc: 0.6667\n",
      "Epoch 11/100\n",
      "1/1 [==============================] - 0s 23ms/step - loss: 1.0595 - acc: 0.6000 - val_loss: 1.0843 - val_acc: 0.6667\n",
      "Epoch 12/100\n",
      "1/1 [==============================] - 0s 23ms/step - loss: 1.0619 - acc: 0.7333 - val_loss: 1.0826 - val_acc: 0.6667\n",
      "Epoch 13/100\n",
      "1/1 [==============================] - 0s 23ms/step - loss: 1.0478 - acc: 0.6667 - val_loss: 1.0808 - val_acc: 0.6667\n",
      "Epoch 14/100\n",
      "1/1 [==============================] - 0s 24ms/step - loss: 1.0521 - acc: 0.6000 - val_loss: 1.0786 - val_acc: 0.6667\n",
      "Epoch 15/100\n",
      "1/1 [==============================] - 0s 24ms/step - loss: 1.0392 - acc: 0.8000 - val_loss: 1.0765 - val_acc: 0.6667\n",
      "Epoch 16/100\n",
      "1/1 [==============================] - 0s 25ms/step - loss: 1.0367 - acc: 0.8000 - val_loss: 1.0750 - val_acc: 0.6667\n",
      "Epoch 17/100\n",
      "1/1 [==============================] - 0s 24ms/step - loss: 1.0388 - acc: 0.7333 - val_loss: 1.0735 - val_acc: 0.6667\n",
      "Epoch 18/100\n",
      "1/1 [==============================] - 0s 24ms/step - loss: 1.0310 - acc: 0.8667 - val_loss: 1.0716 - val_acc: 0.6667\n",
      "Epoch 19/100\n",
      "1/1 [==============================] - 0s 25ms/step - loss: 1.0284 - acc: 0.8000 - val_loss: 1.0696 - val_acc: 0.6667\n",
      "Epoch 20/100\n",
      "1/1 [==============================] - 0s 23ms/step - loss: 1.0035 - acc: 0.9333 - val_loss: 1.0673 - val_acc: 0.6667\n",
      "Epoch 21/100\n",
      "1/1 [==============================] - 0s 22ms/step - loss: 1.0174 - acc: 0.8667 - val_loss: 1.0651 - val_acc: 0.6667\n",
      "Epoch 22/100\n",
      "1/1 [==============================] - 0s 22ms/step - loss: 0.9981 - acc: 0.8667 - val_loss: 1.0626 - val_acc: 0.6667\n",
      "Epoch 23/100\n",
      "1/1 [==============================] - 0s 25ms/step - loss: 0.9899 - acc: 0.8000 - val_loss: 1.0598 - val_acc: 0.6667\n",
      "Epoch 24/100\n",
      "1/1 [==============================] - 0s 23ms/step - loss: 0.9903 - acc: 0.8667 - val_loss: 1.0568 - val_acc: 0.6667\n",
      "Epoch 25/100\n",
      "1/1 [==============================] - 0s 30ms/step - loss: 0.9681 - acc: 1.0000 - val_loss: 1.0536 - val_acc: 0.6667\n",
      "Epoch 26/100\n",
      "1/1 [==============================] - 0s 24ms/step - loss: 0.9854 - acc: 0.9333 - val_loss: 1.0500 - val_acc: 0.6667\n",
      "Epoch 27/100\n",
      "1/1 [==============================] - 0s 23ms/step - loss: 0.9655 - acc: 0.9333 - val_loss: 1.0459 - val_acc: 0.6667\n",
      "Epoch 28/100\n",
      "1/1 [==============================] - 0s 22ms/step - loss: 0.9633 - acc: 0.8000 - val_loss: 1.0415 - val_acc: 0.6667\n",
      "Epoch 29/100\n",
      "1/1 [==============================] - 0s 24ms/step - loss: 0.9466 - acc: 0.9333 - val_loss: 1.0369 - val_acc: 0.6667\n",
      "Epoch 30/100\n",
      "1/1 [==============================] - 0s 21ms/step - loss: 0.9492 - acc: 0.9333 - val_loss: 1.0320 - val_acc: 0.6667\n",
      "Epoch 31/100\n",
      "1/1 [==============================] - 0s 24ms/step - loss: 0.9480 - acc: 0.8667 - val_loss: 1.0273 - val_acc: 0.6667\n",
      "Epoch 32/100\n",
      "1/1 [==============================] - 0s 24ms/step - loss: 0.9279 - acc: 1.0000 - val_loss: 1.0224 - val_acc: 0.6667\n",
      "Epoch 33/100\n",
      "1/1 [==============================] - 0s 22ms/step - loss: 0.9079 - acc: 0.8667 - val_loss: 1.0173 - val_acc: 0.6667\n",
      "Epoch 34/100\n",
      "1/1 [==============================] - 0s 24ms/step - loss: 0.8679 - acc: 0.9333 - val_loss: 1.0117 - val_acc: 0.6667\n",
      "Epoch 35/100\n",
      "1/1 [==============================] - 0s 23ms/step - loss: 0.9078 - acc: 1.0000 - val_loss: 1.0059 - val_acc: 0.6667\n",
      "Epoch 36/100\n",
      "1/1 [==============================] - 0s 22ms/step - loss: 0.8529 - acc: 0.9333 - val_loss: 0.9993 - val_acc: 0.6667\n",
      "Epoch 37/100\n",
      "1/1 [==============================] - 0s 23ms/step - loss: 0.8462 - acc: 0.8667 - val_loss: 0.9921 - val_acc: 0.6667\n",
      "Epoch 38/100\n",
      "1/1 [==============================] - 0s 21ms/step - loss: 0.8269 - acc: 1.0000 - val_loss: 0.9845 - val_acc: 0.6667\n",
      "Epoch 39/100\n",
      "1/1 [==============================] - 0s 25ms/step - loss: 0.8296 - acc: 1.0000 - val_loss: 0.9767 - val_acc: 0.6667\n",
      "Epoch 40/100\n",
      "1/1 [==============================] - 0s 24ms/step - loss: 0.7933 - acc: 1.0000 - val_loss: 0.9686 - val_acc: 0.6667\n",
      "Epoch 41/100\n",
      "1/1 [==============================] - 0s 24ms/step - loss: 0.8118 - acc: 0.9333 - val_loss: 0.9596 - val_acc: 0.6667\n",
      "Epoch 42/100\n",
      "1/1 [==============================] - 0s 29ms/step - loss: 0.7813 - acc: 0.9333 - val_loss: 0.9499 - val_acc: 0.6667\n",
      "Epoch 43/100\n",
      "1/1 [==============================] - 0s 29ms/step - loss: 0.7700 - acc: 0.8000 - val_loss: 0.9396 - val_acc: 0.6667\n",
      "Epoch 44/100\n",
      "1/1 [==============================] - 0s 30ms/step - loss: 0.7519 - acc: 1.0000 - val_loss: 0.9284 - val_acc: 0.6667\n",
      "Epoch 45/100\n",
      "1/1 [==============================] - 0s 26ms/step - loss: 0.7095 - acc: 1.0000 - val_loss: 0.9165 - val_acc: 0.6667\n",
      "Epoch 46/100\n",
      "1/1 [==============================] - 0s 33ms/step - loss: 0.6513 - acc: 0.9333 - val_loss: 0.9039 - val_acc: 0.6667\n",
      "Epoch 47/100\n",
      "1/1 [==============================] - 0s 30ms/step - loss: 0.6920 - acc: 1.0000 - val_loss: 0.8911 - val_acc: 0.6667\n",
      "Epoch 48/100\n",
      "1/1 [==============================] - 0s 26ms/step - loss: 0.6329 - acc: 1.0000 - val_loss: 0.8785 - val_acc: 0.6667\n",
      "Epoch 49/100\n",
      "1/1 [==============================] - 0s 25ms/step - loss: 0.6151 - acc: 1.0000 - val_loss: 0.8653 - val_acc: 0.6667\n",
      "Epoch 50/100\n",
      "1/1 [==============================] - 0s 26ms/step - loss: 0.5990 - acc: 1.0000 - val_loss: 0.8526 - val_acc: 0.6667\n",
      "Epoch 51/100\n",
      "1/1 [==============================] - 0s 25ms/step - loss: 0.5785 - acc: 1.0000 - val_loss: 0.8382 - val_acc: 0.6667\n",
      "Epoch 52/100\n",
      "1/1 [==============================] - 0s 22ms/step - loss: 0.6061 - acc: 0.9333 - val_loss: 0.8237 - val_acc: 0.6667\n",
      "Epoch 53/100\n",
      "1/1 [==============================] - 0s 22ms/step - loss: 0.5062 - acc: 0.9333 - val_loss: 0.8080 - val_acc: 0.6667\n",
      "Epoch 54/100\n",
      "1/1 [==============================] - 0s 22ms/step - loss: 0.4931 - acc: 1.0000 - val_loss: 0.7917 - val_acc: 0.6667\n",
      "Epoch 55/100\n",
      "1/1 [==============================] - 0s 22ms/step - loss: 0.5100 - acc: 1.0000 - val_loss: 0.7761 - val_acc: 0.6667\n",
      "Epoch 56/100\n",
      "1/1 [==============================] - 0s 23ms/step - loss: 0.3884 - acc: 1.0000 - val_loss: 0.7586 - val_acc: 0.6667\n",
      "Epoch 57/100\n",
      "1/1 [==============================] - 0s 23ms/step - loss: 0.4221 - acc: 1.0000 - val_loss: 0.7428 - val_acc: 0.6667\n",
      "Epoch 58/100\n",
      "1/1 [==============================] - 0s 22ms/step - loss: 0.3693 - acc: 1.0000 - val_loss: 0.7298 - val_acc: 0.6667\n",
      "Epoch 59/100\n",
      "1/1 [==============================] - 0s 25ms/step - loss: 0.3457 - acc: 0.9333 - val_loss: 0.7160 - val_acc: 0.6667\n",
      "Epoch 60/100\n",
      "1/1 [==============================] - 0s 26ms/step - loss: 0.3543 - acc: 1.0000 - val_loss: 0.7018 - val_acc: 0.6667\n",
      "Epoch 61/100\n",
      "1/1 [==============================] - 0s 27ms/step - loss: 0.2885 - acc: 0.9333 - val_loss: 0.6882 - val_acc: 0.6667\n",
      "Epoch 62/100\n",
      "1/1 [==============================] - 0s 24ms/step - loss: 0.2636 - acc: 1.0000 - val_loss: 0.6713 - val_acc: 0.6667\n",
      "Epoch 63/100\n",
      "1/1 [==============================] - 0s 24ms/step - loss: 0.2783 - acc: 0.9333 - val_loss: 0.6572 - val_acc: 0.6667\n",
      "Epoch 64/100\n",
      "1/1 [==============================] - 0s 25ms/step - loss: 0.2369 - acc: 1.0000 - val_loss: 0.6467 - val_acc: 0.6667\n",
      "Epoch 65/100\n",
      "1/1 [==============================] - 0s 24ms/step - loss: 0.2556 - acc: 0.9333 - val_loss: 0.6533 - val_acc: 0.6667\n",
      "Epoch 66/100\n",
      "1/1 [==============================] - 0s 25ms/step - loss: 0.1765 - acc: 1.0000 - val_loss: 0.6552 - val_acc: 0.6667\n",
      "Epoch 67/100\n",
      "1/1 [==============================] - 0s 23ms/step - loss: 0.1319 - acc: 1.0000 - val_loss: 0.6552 - val_acc: 0.6667\n",
      "Epoch 68/100\n",
      "1/1 [==============================] - 0s 26ms/step - loss: 0.1117 - acc: 1.0000 - val_loss: 0.6457 - val_acc: 0.6667\n",
      "Epoch 69/100\n",
      "1/1 [==============================] - 0s 21ms/step - loss: 0.1062 - acc: 1.0000 - val_loss: 0.6470 - val_acc: 0.6667\n",
      "Epoch 70/100\n",
      "1/1 [==============================] - 0s 23ms/step - loss: 0.0930 - acc: 1.0000 - val_loss: 0.6484 - val_acc: 0.6667\n",
      "Epoch 71/100\n",
      "1/1 [==============================] - 0s 23ms/step - loss: 0.0669 - acc: 1.0000 - val_loss: 0.6407 - val_acc: 0.6667\n",
      "Epoch 72/100\n",
      "1/1 [==============================] - 0s 23ms/step - loss: 0.0716 - acc: 1.0000 - val_loss: 0.6269 - val_acc: 0.6667\n",
      "Epoch 73/100\n",
      "1/1 [==============================] - 0s 23ms/step - loss: 0.0490 - acc: 1.0000 - val_loss: 0.6037 - val_acc: 0.6667\n",
      "Epoch 74/100\n",
      "1/1 [==============================] - 0s 25ms/step - loss: 0.0579 - acc: 1.0000 - val_loss: 0.5615 - val_acc: 0.6667\n",
      "Epoch 75/100\n",
      "1/1 [==============================] - 0s 25ms/step - loss: 0.0377 - acc: 1.0000 - val_loss: 0.5070 - val_acc: 0.6667\n",
      "Epoch 76/100\n",
      "1/1 [==============================] - 0s 26ms/step - loss: 0.0328 - acc: 1.0000 - val_loss: 0.4480 - val_acc: 0.6667\n",
      "Epoch 77/100\n",
      "1/1 [==============================] - 0s 25ms/step - loss: 0.0319 - acc: 1.0000 - val_loss: 0.3885 - val_acc: 0.6667\n",
      "Epoch 78/100\n",
      "1/1 [==============================] - 0s 25ms/step - loss: 0.0226 - acc: 1.0000 - val_loss: 0.3368 - val_acc: 0.6667\n",
      "Epoch 79/100\n",
      "1/1 [==============================] - 0s 24ms/step - loss: 0.0192 - acc: 1.0000 - val_loss: 0.2912 - val_acc: 1.0000\n",
      "Epoch 80/100\n",
      "1/1 [==============================] - 0s 27ms/step - loss: 0.0068 - acc: 1.0000 - val_loss: 0.2551 - val_acc: 1.0000\n",
      "Epoch 81/100\n",
      "1/1 [==============================] - 0s 26ms/step - loss: 0.0114 - acc: 1.0000 - val_loss: 0.2245 - val_acc: 1.0000\n",
      "Epoch 82/100\n",
      "1/1 [==============================] - 0s 24ms/step - loss: 0.0132 - acc: 1.0000 - val_loss: 0.2013 - val_acc: 1.0000\n",
      "Epoch 83/100\n",
      "1/1 [==============================] - 0s 23ms/step - loss: 0.0200 - acc: 1.0000 - val_loss: 0.1819 - val_acc: 1.0000\n",
      "Epoch 84/100\n",
      "1/1 [==============================] - 0s 24ms/step - loss: 0.0065 - acc: 1.0000 - val_loss: 0.1663 - val_acc: 1.0000\n",
      "Epoch 85/100\n",
      "1/1 [==============================] - 0s 22ms/step - loss: 0.0043 - acc: 1.0000 - val_loss: 0.1544 - val_acc: 1.0000\n",
      "Epoch 86/100\n",
      "1/1 [==============================] - 0s 23ms/step - loss: 0.0049 - acc: 1.0000 - val_loss: 0.1458 - val_acc: 1.0000\n",
      "Epoch 87/100\n",
      "1/1 [==============================] - 0s 25ms/step - loss: 0.0063 - acc: 1.0000 - val_loss: 0.1418 - val_acc: 1.0000\n",
      "Epoch 88/100\n",
      "1/1 [==============================] - 0s 26ms/step - loss: 0.0099 - acc: 1.0000 - val_loss: 0.1402 - val_acc: 1.0000\n",
      "Epoch 89/100\n",
      "1/1 [==============================] - 0s 31ms/step - loss: 0.0087 - acc: 1.0000 - val_loss: 0.1378 - val_acc: 1.0000\n",
      "Epoch 90/100\n",
      "1/1 [==============================] - 0s 29ms/step - loss: 0.0058 - acc: 1.0000 - val_loss: 0.1371 - val_acc: 1.0000\n",
      "Epoch 91/100\n",
      "1/1 [==============================] - 0s 27ms/step - loss: 0.0370 - acc: 1.0000 - val_loss: 0.1121 - val_acc: 1.0000\n",
      "Epoch 92/100\n",
      "1/1 [==============================] - 0s 26ms/step - loss: 0.0164 - acc: 1.0000 - val_loss: 0.0977 - val_acc: 1.0000\n",
      "Epoch 93/100\n",
      "1/1 [==============================] - 0s 25ms/step - loss: 0.0033 - acc: 1.0000 - val_loss: 0.0865 - val_acc: 1.0000\n",
      "Epoch 94/100\n",
      "1/1 [==============================] - 0s 24ms/step - loss: 0.0122 - acc: 1.0000 - val_loss: 0.0832 - val_acc: 1.0000\n",
      "Epoch 95/100\n",
      "1/1 [==============================] - 0s 23ms/step - loss: 0.0026 - acc: 1.0000 - val_loss: 0.0810 - val_acc: 1.0000\n",
      "Epoch 96/100\n",
      "1/1 [==============================] - 0s 25ms/step - loss: 0.0043 - acc: 1.0000 - val_loss: 0.0802 - val_acc: 1.0000\n",
      "Epoch 97/100\n",
      "1/1 [==============================] - 0s 25ms/step - loss: 0.0037 - acc: 1.0000 - val_loss: 0.0796 - val_acc: 1.0000\n",
      "Epoch 98/100\n",
      "1/1 [==============================] - 0s 26ms/step - loss: 0.0069 - acc: 1.0000 - val_loss: 0.0812 - val_acc: 1.0000\n",
      "Epoch 99/100\n",
      "1/1 [==============================] - 0s 32ms/step - loss: 0.0054 - acc: 1.0000 - val_loss: 0.0838 - val_acc: 1.0000\n",
      "Epoch 100/100\n",
      "1/1 [==============================] - 0s 36ms/step - loss: 0.0054 - acc: 1.0000 - val_loss: 0.0832 - val_acc: 1.0000\n"
     ]
    }
   ],
   "source": [
    "history = model.fit(li, label, epochs=100, validation_data=(val_li, val_label))\n",
    "model.save(\"TestGru.h5\")"
   ],
   "metadata": {
    "collapsed": false,
    "pycharm": {
     "name": "#%%\n"
    }
   }
  },
  {
   "cell_type": "code",
   "execution_count": 50,
   "outputs": [
    {
     "data": {
      "text/plain": "<Figure size 576x576 with 1 Axes>",
      "image/png": "[encoded data removed]"
     },
     "metadata": {
      "needs_background": "light"
     },
     "output_type": "display_data"
    },
    {
     "data": {
      "text/plain": "<Figure size 432x288 with 1 Axes>",
      "image/png": "[encoded data removed]"
     },
     "metadata": {
      "needs_background": "light"
     },
     "output_type": "display_data"
    }
   ],
   "source": [
    "import matplotlib.pyplot as plt\n",
    "\n",
    "acc = history.history['acc']\n",
    "val_acc = history.history['val_acc']\n",
    "\n",
    "loss = history.history['loss']\n",
    "val_loss = history.history['val_loss']\n",
    "\n",
    "plt.figure(figsize=(8, 8))\n",
    "plt.subplot(2, 1, 1)\n",
    "plt.plot(acc, label='Accuracy')\n",
    "plt.plot(val_acc, label='Validation Accuracy')\n",
    "plt.legend()\n",
    "plt.ylabel('Accuracy')\n",
    "plt.title('Training Accuracy')\n",
    "plt.show()\n",
    "\n",
    "plt.subplot(2, 1, 2)\n",
    "plt.plot(loss, label='Training Loss')\n",
    "plt.plot(val_loss, label='Validation Loss')\n",
    "plt.legend()\n",
    "plt.ylabel('Loss')\n",
    "plt.title('Training Loss')\n",
    "plt.xlabel('epoch')\n",
    "\n",
    "plt.show()"
   ],
   "metadata": {
    "collapsed": false,
    "pycharm": {
     "name": "#%%\n"
    }
   }
  },
  {
   "cell_type": "code",
   "execution_count": 45,
   "outputs": [
    {
     "name": "stdout",
     "output_type": "stream",
     "text": [
      "1/1 [==============================] - 0s 265ms/step - loss: 0.0978 - acc: 1.0000\n"
     ]
    },
    {
     "data": {
      "text/plain": "[0.09776139259338379, 1.0]"
     },
     "execution_count": 45,
     "metadata": {},
     "output_type": "execute_result"
    }
   ],
   "source": [
    "model.evaluate(val_li, val_label)"
   ],
   "metadata": {
    "collapsed": false,
    "pycharm": {
     "name": "#%%\n"
    }
   }
  },
  {
   "cell_type": "code",
   "execution_count": 53,
   "outputs": [
    {
     "name": "stdout",
     "output_type": "stream",
     "text": [
      "127\n",
      "20\n",
      "20\n"
     ]
    },
    {
     "data": {
      "text/plain": "(1, 5, 167)"
     },
     "execution_count": 53,
     "metadata": {},
     "output_type": "execute_result"
    }
   ],
   "source": [
    "a, b, c = map(np.array, Keypoints.getkey_from_cam())\n",
    "data = np.concatenate([a, b, c], axis=1)\n",
    "data = np.array([data[-10:-5][:]])\n",
    "data.shape"
   ],
   "metadata": {
    "collapsed": false,
    "pycharm": {
     "name": "#%%\n"
    }
   }
  },
  {
   "cell_type": "code",
   "execution_count": 21,
   "outputs": [
    {
     "data": {
      "text/plain": "(167,)"
     },
     "execution_count": 21,
     "metadata": {},
     "output_type": "execute_result"
    }
   ],
   "source": [],
   "metadata": {
    "collapsed": false,
    "pycharm": {
     "name": "#%%\n"
    }
   }
  },
  {
   "cell_type": "code",
   "execution_count": 20,
   "outputs": [],
   "source": [
    "import cv2\n",
    "\n",
    "for i in range(5):\n",
    "    cv2.imshow(\"1\", data[0][i])\n",
    "    cv2.waitKey()\n",
    "    cv2.destroyAllWindows()"
   ],
   "metadata": {
    "collapsed": false,
    "pycharm": {
     "name": "#%%\n"
    }
   }
  },
  {
   "cell_type": "code",
   "execution_count": 54,
   "outputs": [
    {
     "name": "stdout",
     "output_type": "stream",
     "text": [
      "WARNING:tensorflow:5 out of the last 10 calls to <function Model.make_predict_function.<locals>.predict_function at 0x7f1f7a0bf9d0> triggered tf.function retracing. Tracing is expensive and the excessive number of tracings could be due to (1) creating @tf.function repeatedly in a loop, (2) passing tensors with different shapes, (3) passing Python objects instead of tensors. For (1), please define your @tf.function outside of the loop. For (2), @tf.function has experimental_relax_shapes=True option that relaxes argument shapes that can avoid unnecessary retracing. For (3), please refer to https://www.tensorflow.org/guide/function#controlling_retracing and https://www.tensorflow.org/api_docs/python/tf/function for  more details.\n"
     ]
    },
    {
     "data": {
      "text/plain": "array([[9.9564254e-01, 4.3571130e-03, 3.6100619e-07]], dtype=float32)"
     },
     "execution_count": 54,
     "metadata": {},
     "output_type": "execute_result"
    }
   ],
   "source": [
    "model.predict(data)"
   ],
   "metadata": {
    "collapsed": false,
    "pycharm": {
     "name": "#%%\n"
    }
   }
  },
  {
   "cell_type": "code",
   "execution_count": 56,
   "outputs": [
    {
     "name": "stdout",
     "output_type": "stream",
     "text": [
      "127\n",
      "20\n",
      "20\n"
     ]
    }
   ],
   "source": [
    "a, b, c = map(np.array, Keypoints.getkey_from_cam())\n",
    "test_2 = np.concatenate([a, b, c], axis=1)"
   ],
   "metadata": {
    "collapsed": false,
    "pycharm": {
     "name": "#%%\n"
    }
   }
  },
  {
   "cell_type": "code",
   "execution_count": 57,
   "outputs": [],
   "source": [
    "test_data = np.array([test_2[-10:-5][:]])"
   ],
   "metadata": {
    "collapsed": false,
    "pycharm": {
     "name": "#%%\n"
    }
   }
  },
  {
   "cell_type": "code",
   "execution_count": 60,
   "outputs": [
    {
     "data": {
      "text/plain": "(1, 5, 167)"
     },
     "execution_count": 60,
     "metadata": {},
     "output_type": "execute_result"
    }
   ],
   "source": [
    "test_data = np.array([test_2[-15:-10][:]])\n",
    "test_data.shape"
   ],
   "metadata": {
    "collapsed": false,
    "pycharm": {
     "name": "#%%\n"
    }
   }
  },
  {
   "cell_type": "code",
   "execution_count": 61,
   "outputs": [
    {
     "data": {
      "text/plain": "array([[9.9991834e-01, 8.1593666e-05, 3.0518663e-08]], dtype=float32)"
     },
     "execution_count": 61,
     "metadata": {},
     "output_type": "execute_result"
    }
   ],
   "source": [
    "model.predict(test_data)"
   ],
   "metadata": {
    "collapsed": false,
    "pycharm": {
     "name": "#%%\n"
    }
   }
  },
  {
   "cell_type": "code",
   "execution_count": 41,
   "outputs": [
    {
     "name": "stdout",
     "output_type": "stream",
     "text": [
      "127\n",
      "20\n",
      "20\n"
     ]
    }
   ],
   "source": [
    "a, b, c = map(np.array, Keypoints.getkey_from_cam())\n",
    "test_3 = np.concatenate([a, b, c], axis=1)"
   ],
   "metadata": {
    "collapsed": false,
    "pycharm": {
     "name": "#%%\n"
    }
   }
  },
  {
   "cell_type": "code",
   "execution_count": 43,
   "outputs": [],
   "source": [
    "test_3_final = np.array([test_3[-10:-5][:]])"
   ],
   "metadata": {
    "collapsed": false,
    "pycharm": {
     "name": "#%%\n"
    }
   }
  },
  {
   "cell_type": "code",
   "execution_count": 44,
   "outputs": [
    {
     "data": {
      "text/plain": "(1, 5, 167)"
     },
     "execution_count": 44,
     "metadata": {},
     "output_type": "execute_result"
    }
   ],
   "source": [
    "test_3_final.shape"
   ],
   "metadata": {
    "collapsed": false,
    "pycharm": {
     "name": "#%%\n"
    }
   }
  },
  {
   "cell_type": "code",
   "execution_count": 45,
   "outputs": [
    {
     "data": {
      "text/plain": "array([[9.9997377e-01, 2.6079653e-05, 1.4107437e-07]], dtype=float32)"
     },
     "execution_count": 45,
     "metadata": {},
     "output_type": "execute_result"
    }
   ],
   "source": [
    "model.predict(test_3_final)"
   ],
   "metadata": {
    "collapsed": false,
    "pycharm": {
     "name": "#%%\n"
    }
   }
  },
  {
   "cell_type": "code",
   "execution_count": 63,
   "outputs": [
    {
     "name": "stdout",
     "output_type": "stream",
     "text": [
      "127\n",
      "20\n",
      "20\n",
      "WARNING:tensorflow:Model was constructed with shape (None, 5, 167) for input KerasTensor(type_spec=TensorSpec(shape=(None, 5, 167), dtype=tf.float32, name='gru_4_input'), name='gru_4_input', description=\"created by layer 'gru_4_input'\"), but it was called on an input with incompatible shape (None, 167).\n"
     ]
    },
    {
     "ename": "ValueError",
     "evalue": "in user code:\n\n    File \"/usr/lib/python3.9/site-packages/keras/engine/training.py\", line 1621, in predict_function  *\n        return step_function(self, iterator)\n    File \"/usr/lib/python3.9/site-packages/keras/engine/training.py\", line 1611, in step_function  **\n        outputs = model.distribute_strategy.run(run_step, args=(data,))\n    File \"/usr/lib/python3.9/site-packages/keras/engine/training.py\", line 1604, in run_step  **\n        outputs = model.predict_step(data)\n    File \"/usr/lib/python3.9/site-packages/keras/engine/training.py\", line 1572, in predict_step\n        return self(x, training=False)\n    File \"/usr/lib/python3.9/site-packages/keras/utils/traceback_utils.py\", line 67, in error_handler\n        raise e.with_traceback(filtered_tb) from None\n    File \"/usr/lib/python3.9/site-packages/keras/engine/input_spec.py\", line 213, in assert_input_compatibility\n        raise ValueError(f'Input {input_index} of layer \"{layer_name}\" '\n\n    ValueError: Exception encountered when calling layer \"sequential_4\" (type Sequential).\n    \n    Input 0 of layer \"gru_4\" is incompatible with the layer: expected ndim=3, found ndim=2. Full shape received: (None, 167)\n    \n    Call arguments received:\n      • inputs=tf.Tensor(shape=(None, 167), dtype=float32)\n      • training=False\n      • mask=None\n",
     "output_type": "error",
     "traceback": [
      "\u001B[0;31m---------------------------------------------------------------------------\u001B[0m",
      "\u001B[0;31mValueError\u001B[0m                                Traceback (most recent call last)",
      "\u001B[0;32m/tmp/ipykernel_95869/1857440820.py\u001B[0m in \u001B[0;36m<module>\u001B[0;34m\u001B[0m\n\u001B[1;32m      6\u001B[0m         \u001B[0mtest\u001B[0m \u001B[0;34m=\u001B[0m \u001B[0mnp\u001B[0m\u001B[0;34m.\u001B[0m\u001B[0mconcatenate\u001B[0m\u001B[0;34m(\u001B[0m\u001B[0;34m[\u001B[0m\u001B[0ma\u001B[0m\u001B[0;34m,\u001B[0m \u001B[0mb\u001B[0m\u001B[0;34m,\u001B[0m \u001B[0mc\u001B[0m\u001B[0;34m]\u001B[0m\u001B[0;34m,\u001B[0m \u001B[0maxis\u001B[0m\u001B[0;34m=\u001B[0m\u001B[0;36m1\u001B[0m\u001B[0;34m)\u001B[0m\u001B[0;34m\u001B[0m\u001B[0;34m\u001B[0m\u001B[0m\n\u001B[1;32m      7\u001B[0m         \u001B[0mtest_out\u001B[0m \u001B[0;34m=\u001B[0m \u001B[0mnp\u001B[0m\u001B[0;34m.\u001B[0m\u001B[0marray\u001B[0m\u001B[0;34m(\u001B[0m\u001B[0mtest\u001B[0m\u001B[0;34m[\u001B[0m\u001B[0;34m-\u001B[0m\u001B[0;36m5\u001B[0m\u001B[0;34m:\u001B[0m\u001B[0;34m]\u001B[0m\u001B[0;34m[\u001B[0m\u001B[0;34m:\u001B[0m\u001B[0;34m]\u001B[0m\u001B[0;34m)\u001B[0m\u001B[0;34m\u001B[0m\u001B[0;34m\u001B[0m\u001B[0m\n\u001B[0;32m----> 8\u001B[0;31m         \u001B[0mprint\u001B[0m\u001B[0;34m(\u001B[0m\u001B[0mmodel\u001B[0m\u001B[0;34m.\u001B[0m\u001B[0mpredict\u001B[0m\u001B[0;34m(\u001B[0m\u001B[0mtest_out\u001B[0m\u001B[0;34m)\u001B[0m\u001B[0;34m)\u001B[0m\u001B[0;34m\u001B[0m\u001B[0;34m\u001B[0m\u001B[0m\n\u001B[0m\u001B[1;32m      9\u001B[0m     \u001B[0mcnt\u001B[0m \u001B[0;34m+=\u001B[0m \u001B[0;36m1\u001B[0m\u001B[0;34m\u001B[0m\u001B[0;34m\u001B[0m\u001B[0m\n",
      "\u001B[0;32m/usr/lib/python3.9/site-packages/keras/utils/traceback_utils.py\u001B[0m in \u001B[0;36merror_handler\u001B[0;34m(*args, **kwargs)\u001B[0m\n\u001B[1;32m     65\u001B[0m     \u001B[0;32mexcept\u001B[0m \u001B[0mException\u001B[0m \u001B[0;32mas\u001B[0m \u001B[0me\u001B[0m\u001B[0;34m:\u001B[0m  \u001B[0;31m# pylint: disable=broad-except\u001B[0m\u001B[0;34m\u001B[0m\u001B[0;34m\u001B[0m\u001B[0m\n\u001B[1;32m     66\u001B[0m       \u001B[0mfiltered_tb\u001B[0m \u001B[0;34m=\u001B[0m \u001B[0m_process_traceback_frames\u001B[0m\u001B[0;34m(\u001B[0m\u001B[0me\u001B[0m\u001B[0;34m.\u001B[0m\u001B[0m__traceback__\u001B[0m\u001B[0;34m)\u001B[0m\u001B[0;34m\u001B[0m\u001B[0;34m\u001B[0m\u001B[0m\n\u001B[0;32m---> 67\u001B[0;31m       \u001B[0;32mraise\u001B[0m \u001B[0me\u001B[0m\u001B[0;34m.\u001B[0m\u001B[0mwith_traceback\u001B[0m\u001B[0;34m(\u001B[0m\u001B[0mfiltered_tb\u001B[0m\u001B[0;34m)\u001B[0m \u001B[0;32mfrom\u001B[0m \u001B[0;32mNone\u001B[0m\u001B[0;34m\u001B[0m\u001B[0;34m\u001B[0m\u001B[0m\n\u001B[0m\u001B[1;32m     68\u001B[0m     \u001B[0;32mfinally\u001B[0m\u001B[0;34m:\u001B[0m\u001B[0;34m\u001B[0m\u001B[0;34m\u001B[0m\u001B[0m\n\u001B[1;32m     69\u001B[0m       \u001B[0;32mdel\u001B[0m \u001B[0mfiltered_tb\u001B[0m\u001B[0;34m\u001B[0m\u001B[0;34m\u001B[0m\u001B[0m\n",
      "\u001B[0;32m/usr/lib/python3.9/site-packages/tensorflow/python/framework/func_graph.py\u001B[0m in \u001B[0;36mautograph_handler\u001B[0;34m(*args, **kwargs)\u001B[0m\n\u001B[1;32m   1127\u001B[0m           \u001B[0;32mexcept\u001B[0m \u001B[0mException\u001B[0m \u001B[0;32mas\u001B[0m \u001B[0me\u001B[0m\u001B[0;34m:\u001B[0m  \u001B[0;31m# pylint:disable=broad-except\u001B[0m\u001B[0;34m\u001B[0m\u001B[0;34m\u001B[0m\u001B[0m\n\u001B[1;32m   1128\u001B[0m             \u001B[0;32mif\u001B[0m \u001B[0mhasattr\u001B[0m\u001B[0;34m(\u001B[0m\u001B[0me\u001B[0m\u001B[0;34m,\u001B[0m \u001B[0;34m\"ag_error_metadata\"\u001B[0m\u001B[0;34m)\u001B[0m\u001B[0;34m:\u001B[0m\u001B[0;34m\u001B[0m\u001B[0;34m\u001B[0m\u001B[0m\n\u001B[0;32m-> 1129\u001B[0;31m               \u001B[0;32mraise\u001B[0m \u001B[0me\u001B[0m\u001B[0;34m.\u001B[0m\u001B[0mag_error_metadata\u001B[0m\u001B[0;34m.\u001B[0m\u001B[0mto_exception\u001B[0m\u001B[0;34m(\u001B[0m\u001B[0me\u001B[0m\u001B[0;34m)\u001B[0m\u001B[0;34m\u001B[0m\u001B[0;34m\u001B[0m\u001B[0m\n\u001B[0m\u001B[1;32m   1130\u001B[0m             \u001B[0;32melse\u001B[0m\u001B[0;34m:\u001B[0m\u001B[0;34m\u001B[0m\u001B[0;34m\u001B[0m\u001B[0m\n\u001B[1;32m   1131\u001B[0m               \u001B[0;32mraise\u001B[0m\u001B[0;34m\u001B[0m\u001B[0;34m\u001B[0m\u001B[0m\n",
      "\u001B[0;31mValueError\u001B[0m: in user code:\n\n    File \"/usr/lib/python3.9/site-packages/keras/engine/training.py\", line 1621, in predict_function  *\n        return step_function(self, iterator)\n    File \"/usr/lib/python3.9/site-packages/keras/engine/training.py\", line 1611, in step_function  **\n        outputs = model.distribute_strategy.run(run_step, args=(data,))\n    File \"/usr/lib/python3.9/site-packages/keras/engine/training.py\", line 1604, in run_step  **\n        outputs = model.predict_step(data)\n    File \"/usr/lib/python3.9/site-packages/keras/engine/training.py\", line 1572, in predict_step\n        return self(x, training=False)\n    File \"/usr/lib/python3.9/site-packages/keras/utils/traceback_utils.py\", line 67, in error_handler\n        raise e.with_traceback(filtered_tb) from None\n    File \"/usr/lib/python3.9/site-packages/keras/engine/input_spec.py\", line 213, in assert_input_compatibility\n        raise ValueError(f'Input {input_index} of layer \"{layer_name}\" '\n\n    ValueError: Exception encountered when calling layer \"sequential_4\" (type Sequential).\n    \n    Input 0 of layer \"gru_4\" is incompatible with the layer: expected ndim=3, found ndim=2. Full shape received: (None, 167)\n    \n    Call arguments received:\n      • inputs=tf.Tensor(shape=(None, 167), dtype=float32)\n      • training=False\n      • mask=None\n"
     ]
    }
   ],
   "source": [
    "done = False\n",
    "cnt = 1\n",
    "while not done:\n",
    "    if cnt % 5 == 0:\n",
    "        a, b, c = map(np.array, Keypoints.getkey_from_cam())\n",
    "        test = np.concatenate([a, b, c], axis=1)\n",
    "        test_out = np.array(test[-5:][:])\n",
    "        print(model.predict(test_out))\n",
    "    cnt += 1"
   ],
   "metadata": {
    "collapsed": false,
    "pycharm": {
     "name": "#%%\n"
    }
   }
  },
  {
   "cell_type": "code",
   "execution_count": null,
   "outputs": [],
   "source": [],
   "metadata": {
    "collapsed": false,
    "pycharm": {
     "name": "#%%\n"
    }
   }
  }
 ],
 "metadata": {
  "kernelspec": {
   "display_name": "Python 3",
   "language": "python",
   "name": "python3"
  },
  "language_info": {
   "codemirror_mode": {
    "name": "ipython",
    "version": 2
   },
   "file_extension": ".py",
   "mimetype": "text/x-python",
   "name": "python",
   "nbconvert_exporter": "python",
   "pygments_lexer": "ipython2",
   "version": "2.7.6"
  }
 },
 "nbformat": 4,
 "nbformat_minor": 0
}