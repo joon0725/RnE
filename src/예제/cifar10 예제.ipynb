{
 "nbformat": 4,
 "nbformat_minor": 0,
 "metadata": {
  "colab": {
   "name": "Untitled.ipynb",
   "provenance": [],
   "collapsed_sections": [],
   "authorship_tag": "ABX9TyNWsmx74mxu52C1f4kg/a8n",
   "include_colab_link": true
  },
  "kernelspec": {
   "name": "python3",
   "display_name": "Python 3"
  },
  "language_info": {
   "name": "python"
  },
  "accelerator": "GPU"
 },
 "cells": [
  {
   "cell_type": "markdown",
   "metadata": {
    "id": "view-in-github",
    "colab_type": "text"
   },
   "source": [
    "<a href=\"https://colab.research.google.com/github/joon0725/DL-Study/blob/master/Playground/2.cifar10.ipynb\" target=\"_parent\"><img src=\"https://colab.research.google.com/assets/colab-badge.svg\" alt=\"Open In Colab\"/></a>"
   ]
  },
  {
   "cell_type": "code",
   "metadata": {
    "id": "OuJK3szksOgQ"
   },
   "source": [
    "# 대충 만든 cifar10 예제\n",
    "# 돌려보면 알겠지만 정확도가 심각함\n",
    "import tensorflow as tf\n",
    "from tensorflow import keras\n",
    "from tensorflow.keras import layers, Model\n",
    "from tensorflow.keras.datasets import cifar10"
   ],
   "execution_count": 1,
   "outputs": []
  },
  {
   "cell_type": "code",
   "metadata": {
    "id": "MNPSG8M1sjq4"
   },
   "source": [
    "(train_images, train_labels), (test_images, test_labels) = cifar10.load_data()"
   ],
   "execution_count": 2,
   "outputs": []
  },
  {
   "cell_type": "code",
   "metadata": {
    "colab": {
     "base_uri": "https://localhost:8080/"
    },
    "id": "KAkmvK-PuWEB",
    "outputId": "66a0d699-3346-49af-dfce-8fb854b99df4"
   },
   "source": [
    "print(train_images.shape, test_images.shape)"
   ],
   "execution_count": 3,
   "outputs": [
    {
     "name": "stdout",
     "output_type": "stream",
     "text": [
      "(50000, 32, 32, 3) (10000, 32, 32, 3)\n"
     ]
    }
   ]
  },
  {
   "cell_type": "code",
   "metadata": {
    "colab": {
     "base_uri": "https://localhost:8080/"
    },
    "id": "uKdQ3ZeLvWmm",
    "outputId": "6f7e45f5-73fc-44c0-e7b5-f7a8a155aeb4"
   },
   "source": [
    "train_labels.shape"
   ],
   "execution_count": 4,
   "outputs": [
    {
     "data": {
      "text/plain": "(50000, 1)"
     },
     "execution_count": 4,
     "metadata": {},
     "output_type": "execute_result"
    }
   ]
  },
  {
   "cell_type": "code",
   "metadata": {
    "id": "kqu_p505vYtZ"
   },
   "source": [
    "train_images = train_images / 255.0\n",
    "test_images  = test_images / 255.0"
   ],
   "execution_count": 5,
   "outputs": []
  },
  {
   "cell_type": "code",
   "metadata": {
    "id": "XCkciRANvhqz"
   },
   "source": [
    "from tensorflow.keras.utils import to_categorical"
   ],
   "execution_count": 6,
   "outputs": []
  },
  {
   "cell_type": "code",
   "metadata": {
    "id": "2NJlyKAFvsMG"
   },
   "source": [
    "train_labels = to_categorical(train_labels)\n",
    "test_labels = to_categorical(test_labels)"
   ],
   "execution_count": 7,
   "outputs": []
  },
  {
   "cell_type": "code",
   "metadata": {
    "colab": {
     "base_uri": "https://localhost:8080/"
    },
    "id": "vpLdc9kqwOhz",
    "outputId": "0c6f875a-eb21-4f4c-901f-2132ee1509e2"
   },
   "source": [
    "train_labels"
   ],
   "execution_count": 8,
   "outputs": [
    {
     "data": {
      "text/plain": "array([[0., 0., 0., ..., 0., 0., 0.],\n       [0., 0., 0., ..., 0., 0., 1.],\n       [0., 0., 0., ..., 0., 0., 1.],\n       ...,\n       [0., 0., 0., ..., 0., 0., 1.],\n       [0., 1., 0., ..., 0., 0., 0.],\n       [0., 1., 0., ..., 0., 0., 0.]], dtype=float32)"
     },
     "execution_count": 8,
     "metadata": {},
     "output_type": "execute_result"
    }
   ]
  },
  {
   "cell_type": "code",
   "metadata": {
    "id": "g_5BEOjHwP7H"
   },
   "source": [
    "input = layers.Input(shape=(32, 32, 3))\n",
    "conv1 = layers.Conv2D(128, 3, activation='relu')(input)\n",
    "pool1 = layers.MaxPool2D((2, 2))(conv1)\n",
    "drop1 = layers.Dropout(0.25)(pool1)\n",
    "conv2 = layers.Conv2D(256, 3, activation='relu')(drop1)\n",
    "pool2 = layers.MaxPool2D((2, 2))(conv2)\n",
    "drop2 = layers.Dropout(0.25)(pool2)\n",
    "conv3 = layers.Conv2D(128, 3, activation='relu')(drop2)\n",
    "pool3 = layers.MaxPool2D((2, 2))(conv3)\n",
    "drop3 = layers.Dropout(0.25)(pool3)\n",
    "flat = layers.Flatten()(drop3)\n",
    "dense1 = layers.Dense(128, activation='relu')(flat)\n",
    "output = layers.Dense(10, activation='softmax')(dense1)\n",
    "model = Model(inputs=input, outputs=output)"
   ],
   "execution_count": 9,
   "outputs": []
  },
  {
   "cell_type": "code",
   "execution_count": null,
   "outputs": [],
   "source": [
    "model.summary()"
   ],
   "metadata": {
    "collapsed": false,
    "pycharm": {
     "name": "#%%\n"
    }
   }
  },
  {
   "cell_type": "code",
   "metadata": {
    "id": "PtIEKzodz_Mm"
   },
   "source": [
    "model.compile(optimizer='adam', loss='categorical_crossentropy', metrics=['accuracy'])"
   ],
   "execution_count": 11,
   "outputs": []
  },
  {
   "cell_type": "code",
   "metadata": {
    "colab": {
     "base_uri": "https://localhost:8080/"
    },
    "id": "ckoB64Hh0Rp2",
    "outputId": "096a7b78-cb31-4e61-c7d0-b04c7c5046a3"
   },
   "source": [
    "history = model.fit(train_images, train_labels, batch_size=128, epochs=50, validation_split=0.2)"
   ],
   "execution_count": 12,
   "outputs": [
    {
     "name": "stdout",
     "output_type": "stream",
     "text": [
      "Epoch 1/50\n",
      "313/313 [==============================] - 28s 73ms/step - loss: 1.7322 - accuracy: 0.3555 - val_loss: 1.4215 - val_accuracy: 0.4834\n",
      "Epoch 2/50\n",
      "313/313 [==============================] - 22s 69ms/step - loss: 1.3548 - accuracy: 0.5091 - val_loss: 1.1891 - val_accuracy: 0.5759\n",
      "Epoch 3/50\n",
      "313/313 [==============================] - 23s 73ms/step - loss: 1.1994 - accuracy: 0.5712 - val_loss: 1.0700 - val_accuracy: 0.6283\n",
      "Epoch 4/50\n",
      "313/313 [==============================] - 29s 93ms/step - loss: 1.0995 - accuracy: 0.6102 - val_loss: 0.9951 - val_accuracy: 0.6564\n",
      "Epoch 5/50\n",
      "313/313 [==============================] - 26s 82ms/step - loss: 1.0059 - accuracy: 0.6456 - val_loss: 0.9142 - val_accuracy: 0.6832\n",
      "Epoch 6/50\n",
      "313/313 [==============================] - 23s 74ms/step - loss: 0.9474 - accuracy: 0.6661 - val_loss: 0.9045 - val_accuracy: 0.6926\n",
      "Epoch 7/50\n",
      "313/313 [==============================] - 23s 75ms/step - loss: 0.8935 - accuracy: 0.6859 - val_loss: 0.8564 - val_accuracy: 0.7054\n",
      "Epoch 8/50\n",
      "313/313 [==============================] - 25s 79ms/step - loss: 0.8486 - accuracy: 0.7018 - val_loss: 0.8489 - val_accuracy: 0.7076\n",
      "Epoch 9/50\n",
      "313/313 [==============================] - 24s 78ms/step - loss: 0.8153 - accuracy: 0.7133 - val_loss: 0.8367 - val_accuracy: 0.7174\n",
      "Epoch 10/50\n",
      "313/313 [==============================] - 24s 77ms/step - loss: 0.7895 - accuracy: 0.7188 - val_loss: 0.7578 - val_accuracy: 0.7407\n",
      "Epoch 11/50\n",
      "313/313 [==============================] - 24s 77ms/step - loss: 0.7575 - accuracy: 0.7319 - val_loss: 0.7602 - val_accuracy: 0.7391\n",
      "Epoch 12/50\n",
      "313/313 [==============================] - 24s 75ms/step - loss: 0.7246 - accuracy: 0.7451 - val_loss: 0.7474 - val_accuracy: 0.7442\n",
      "Epoch 13/50\n",
      "313/313 [==============================] - 24s 75ms/step - loss: 0.7045 - accuracy: 0.7513 - val_loss: 0.7203 - val_accuracy: 0.7530\n",
      "Epoch 14/50\n",
      "313/313 [==============================] - 24s 75ms/step - loss: 0.6835 - accuracy: 0.7577 - val_loss: 0.7355 - val_accuracy: 0.7488\n",
      "Epoch 15/50\n",
      "313/313 [==============================] - 24s 76ms/step - loss: 0.6667 - accuracy: 0.7632 - val_loss: 0.7288 - val_accuracy: 0.7464\n",
      "Epoch 16/50\n",
      "313/313 [==============================] - 23s 74ms/step - loss: 0.6467 - accuracy: 0.7728 - val_loss: 0.7635 - val_accuracy: 0.7407\n",
      "Epoch 17/50\n",
      "313/313 [==============================] - 23s 75ms/step - loss: 0.6358 - accuracy: 0.7759 - val_loss: 0.6842 - val_accuracy: 0.7675\n",
      "Epoch 18/50\n",
      "313/313 [==============================] - 23s 74ms/step - loss: 0.6125 - accuracy: 0.7831 - val_loss: 0.7183 - val_accuracy: 0.7527\n",
      "Epoch 19/50\n",
      "313/313 [==============================] - 23s 74ms/step - loss: 0.5952 - accuracy: 0.7900 - val_loss: 0.6855 - val_accuracy: 0.7690\n",
      "Epoch 20/50\n",
      "313/313 [==============================] - 23s 75ms/step - loss: 0.5787 - accuracy: 0.7952 - val_loss: 0.6857 - val_accuracy: 0.7653\n",
      "Epoch 21/50\n",
      "313/313 [==============================] - 23s 74ms/step - loss: 0.5659 - accuracy: 0.7987 - val_loss: 0.6653 - val_accuracy: 0.7745\n",
      "Epoch 22/50\n",
      "313/313 [==============================] - 23s 75ms/step - loss: 0.5572 - accuracy: 0.7986 - val_loss: 0.6888 - val_accuracy: 0.7614\n",
      "Epoch 23/50\n",
      "313/313 [==============================] - 23s 74ms/step - loss: 0.5426 - accuracy: 0.8088 - val_loss: 0.6934 - val_accuracy: 0.7633\n",
      "Epoch 24/50\n",
      "267/313 [========================>.....] - ETA: 5s - loss: 0.5343 - accuracy: 0.8103"
     ]
    },
    {
     "ename": "KeyboardInterrupt",
     "evalue": "",
     "output_type": "error",
     "traceback": [
      "\u001B[1;31m---------------------------------------------------------------------------\u001B[0m",
      "\u001B[1;31mKeyboardInterrupt\u001B[0m                         Traceback (most recent call last)",
      "\u001B[1;32m~\\AppData\\Local\\Temp/ipykernel_6936/1315694076.py\u001B[0m in \u001B[0;36m<module>\u001B[1;34m\u001B[0m\n\u001B[1;32m----> 1\u001B[1;33m \u001B[0mhistory\u001B[0m \u001B[1;33m=\u001B[0m \u001B[0mmodel\u001B[0m\u001B[1;33m.\u001B[0m\u001B[0mfit\u001B[0m\u001B[1;33m(\u001B[0m\u001B[0mtrain_images\u001B[0m\u001B[1;33m,\u001B[0m \u001B[0mtrain_labels\u001B[0m\u001B[1;33m,\u001B[0m \u001B[0mbatch_size\u001B[0m\u001B[1;33m=\u001B[0m\u001B[1;36m128\u001B[0m\u001B[1;33m,\u001B[0m \u001B[0mepochs\u001B[0m\u001B[1;33m=\u001B[0m\u001B[1;36m50\u001B[0m\u001B[1;33m,\u001B[0m \u001B[0mvalidation_split\u001B[0m\u001B[1;33m=\u001B[0m\u001B[1;36m0.2\u001B[0m\u001B[1;33m)\u001B[0m\u001B[1;33m\u001B[0m\u001B[1;33m\u001B[0m\u001B[0m\n\u001B[0m",
      "\u001B[1;32m~\\anaconda3\\envs\\AI\\lib\\site-packages\\keras\\engine\\training.py\u001B[0m in \u001B[0;36mfit\u001B[1;34m(self, x, y, batch_size, epochs, verbose, callbacks, validation_split, validation_data, shuffle, class_weight, sample_weight, initial_epoch, steps_per_epoch, validation_steps, validation_batch_size, validation_freq, max_queue_size, workers, use_multiprocessing)\u001B[0m\n\u001B[0;32m   1182\u001B[0m                 _r=1):\n\u001B[0;32m   1183\u001B[0m               \u001B[0mcallbacks\u001B[0m\u001B[1;33m.\u001B[0m\u001B[0mon_train_batch_begin\u001B[0m\u001B[1;33m(\u001B[0m\u001B[0mstep\u001B[0m\u001B[1;33m)\u001B[0m\u001B[1;33m\u001B[0m\u001B[1;33m\u001B[0m\u001B[0m\n\u001B[1;32m-> 1184\u001B[1;33m               \u001B[0mtmp_logs\u001B[0m \u001B[1;33m=\u001B[0m \u001B[0mself\u001B[0m\u001B[1;33m.\u001B[0m\u001B[0mtrain_function\u001B[0m\u001B[1;33m(\u001B[0m\u001B[0miterator\u001B[0m\u001B[1;33m)\u001B[0m\u001B[1;33m\u001B[0m\u001B[1;33m\u001B[0m\u001B[0m\n\u001B[0m\u001B[0;32m   1185\u001B[0m               \u001B[1;32mif\u001B[0m \u001B[0mdata_handler\u001B[0m\u001B[1;33m.\u001B[0m\u001B[0mshould_sync\u001B[0m\u001B[1;33m:\u001B[0m\u001B[1;33m\u001B[0m\u001B[1;33m\u001B[0m\u001B[0m\n\u001B[0;32m   1186\u001B[0m                 \u001B[0mcontext\u001B[0m\u001B[1;33m.\u001B[0m\u001B[0masync_wait\u001B[0m\u001B[1;33m(\u001B[0m\u001B[1;33m)\u001B[0m\u001B[1;33m\u001B[0m\u001B[1;33m\u001B[0m\u001B[0m\n",
      "\u001B[1;32m~\\anaconda3\\envs\\AI\\lib\\site-packages\\tensorflow\\python\\eager\\def_function.py\u001B[0m in \u001B[0;36m__call__\u001B[1;34m(self, *args, **kwds)\u001B[0m\n\u001B[0;32m    883\u001B[0m \u001B[1;33m\u001B[0m\u001B[0m\n\u001B[0;32m    884\u001B[0m       \u001B[1;32mwith\u001B[0m \u001B[0mOptionalXlaContext\u001B[0m\u001B[1;33m(\u001B[0m\u001B[0mself\u001B[0m\u001B[1;33m.\u001B[0m\u001B[0m_jit_compile\u001B[0m\u001B[1;33m)\u001B[0m\u001B[1;33m:\u001B[0m\u001B[1;33m\u001B[0m\u001B[1;33m\u001B[0m\u001B[0m\n\u001B[1;32m--> 885\u001B[1;33m         \u001B[0mresult\u001B[0m \u001B[1;33m=\u001B[0m \u001B[0mself\u001B[0m\u001B[1;33m.\u001B[0m\u001B[0m_call\u001B[0m\u001B[1;33m(\u001B[0m\u001B[1;33m*\u001B[0m\u001B[0margs\u001B[0m\u001B[1;33m,\u001B[0m \u001B[1;33m**\u001B[0m\u001B[0mkwds\u001B[0m\u001B[1;33m)\u001B[0m\u001B[1;33m\u001B[0m\u001B[1;33m\u001B[0m\u001B[0m\n\u001B[0m\u001B[0;32m    886\u001B[0m \u001B[1;33m\u001B[0m\u001B[0m\n\u001B[0;32m    887\u001B[0m       \u001B[0mnew_tracing_count\u001B[0m \u001B[1;33m=\u001B[0m \u001B[0mself\u001B[0m\u001B[1;33m.\u001B[0m\u001B[0mexperimental_get_tracing_count\u001B[0m\u001B[1;33m(\u001B[0m\u001B[1;33m)\u001B[0m\u001B[1;33m\u001B[0m\u001B[1;33m\u001B[0m\u001B[0m\n",
      "\u001B[1;32m~\\anaconda3\\envs\\AI\\lib\\site-packages\\tensorflow\\python\\eager\\def_function.py\u001B[0m in \u001B[0;36m_call\u001B[1;34m(self, *args, **kwds)\u001B[0m\n\u001B[0;32m    915\u001B[0m       \u001B[1;31m# In this case we have created variables on the first call, so we run the\u001B[0m\u001B[1;33m\u001B[0m\u001B[1;33m\u001B[0m\u001B[1;33m\u001B[0m\u001B[0m\n\u001B[0;32m    916\u001B[0m       \u001B[1;31m# defunned version which is guaranteed to never create variables.\u001B[0m\u001B[1;33m\u001B[0m\u001B[1;33m\u001B[0m\u001B[1;33m\u001B[0m\u001B[0m\n\u001B[1;32m--> 917\u001B[1;33m       \u001B[1;32mreturn\u001B[0m \u001B[0mself\u001B[0m\u001B[1;33m.\u001B[0m\u001B[0m_stateless_fn\u001B[0m\u001B[1;33m(\u001B[0m\u001B[1;33m*\u001B[0m\u001B[0margs\u001B[0m\u001B[1;33m,\u001B[0m \u001B[1;33m**\u001B[0m\u001B[0mkwds\u001B[0m\u001B[1;33m)\u001B[0m  \u001B[1;31m# pylint: disable=not-callable\u001B[0m\u001B[1;33m\u001B[0m\u001B[1;33m\u001B[0m\u001B[0m\n\u001B[0m\u001B[0;32m    918\u001B[0m     \u001B[1;32melif\u001B[0m \u001B[0mself\u001B[0m\u001B[1;33m.\u001B[0m\u001B[0m_stateful_fn\u001B[0m \u001B[1;32mis\u001B[0m \u001B[1;32mnot\u001B[0m \u001B[1;32mNone\u001B[0m\u001B[1;33m:\u001B[0m\u001B[1;33m\u001B[0m\u001B[1;33m\u001B[0m\u001B[0m\n\u001B[0;32m    919\u001B[0m       \u001B[1;31m# Release the lock early so that multiple threads can perform the call\u001B[0m\u001B[1;33m\u001B[0m\u001B[1;33m\u001B[0m\u001B[1;33m\u001B[0m\u001B[0m\n",
      "\u001B[1;32m~\\anaconda3\\envs\\AI\\lib\\site-packages\\tensorflow\\python\\eager\\function.py\u001B[0m in \u001B[0;36m__call__\u001B[1;34m(self, *args, **kwargs)\u001B[0m\n\u001B[0;32m   3037\u001B[0m       (graph_function,\n\u001B[0;32m   3038\u001B[0m        filtered_flat_args) = self._maybe_define_function(args, kwargs)\n\u001B[1;32m-> 3039\u001B[1;33m     return graph_function._call_flat(\n\u001B[0m\u001B[0;32m   3040\u001B[0m         filtered_flat_args, captured_inputs=graph_function.captured_inputs)  # pylint: disable=protected-access\n\u001B[0;32m   3041\u001B[0m \u001B[1;33m\u001B[0m\u001B[0m\n",
      "\u001B[1;32m~\\anaconda3\\envs\\AI\\lib\\site-packages\\tensorflow\\python\\eager\\function.py\u001B[0m in \u001B[0;36m_call_flat\u001B[1;34m(self, args, captured_inputs, cancellation_manager)\u001B[0m\n\u001B[0;32m   1961\u001B[0m         and executing_eagerly):\n\u001B[0;32m   1962\u001B[0m       \u001B[1;31m# No tape is watching; skip to running the function.\u001B[0m\u001B[1;33m\u001B[0m\u001B[1;33m\u001B[0m\u001B[1;33m\u001B[0m\u001B[0m\n\u001B[1;32m-> 1963\u001B[1;33m       return self._build_call_outputs(self._inference_function.call(\n\u001B[0m\u001B[0;32m   1964\u001B[0m           ctx, args, cancellation_manager=cancellation_manager))\n\u001B[0;32m   1965\u001B[0m     forward_backward = self._select_forward_and_backward_functions(\n",
      "\u001B[1;32m~\\anaconda3\\envs\\AI\\lib\\site-packages\\tensorflow\\python\\eager\\function.py\u001B[0m in \u001B[0;36mcall\u001B[1;34m(self, ctx, args, cancellation_manager)\u001B[0m\n\u001B[0;32m    589\u001B[0m       \u001B[1;32mwith\u001B[0m \u001B[0m_InterpolateFunctionError\u001B[0m\u001B[1;33m(\u001B[0m\u001B[0mself\u001B[0m\u001B[1;33m)\u001B[0m\u001B[1;33m:\u001B[0m\u001B[1;33m\u001B[0m\u001B[1;33m\u001B[0m\u001B[0m\n\u001B[0;32m    590\u001B[0m         \u001B[1;32mif\u001B[0m \u001B[0mcancellation_manager\u001B[0m \u001B[1;32mis\u001B[0m \u001B[1;32mNone\u001B[0m\u001B[1;33m:\u001B[0m\u001B[1;33m\u001B[0m\u001B[1;33m\u001B[0m\u001B[0m\n\u001B[1;32m--> 591\u001B[1;33m           outputs = execute.execute(\n\u001B[0m\u001B[0;32m    592\u001B[0m               \u001B[0mstr\u001B[0m\u001B[1;33m(\u001B[0m\u001B[0mself\u001B[0m\u001B[1;33m.\u001B[0m\u001B[0msignature\u001B[0m\u001B[1;33m.\u001B[0m\u001B[0mname\u001B[0m\u001B[1;33m)\u001B[0m\u001B[1;33m,\u001B[0m\u001B[1;33m\u001B[0m\u001B[1;33m\u001B[0m\u001B[0m\n\u001B[0;32m    593\u001B[0m               \u001B[0mnum_outputs\u001B[0m\u001B[1;33m=\u001B[0m\u001B[0mself\u001B[0m\u001B[1;33m.\u001B[0m\u001B[0m_num_outputs\u001B[0m\u001B[1;33m,\u001B[0m\u001B[1;33m\u001B[0m\u001B[1;33m\u001B[0m\u001B[0m\n",
      "\u001B[1;32m~\\anaconda3\\envs\\AI\\lib\\site-packages\\tensorflow\\python\\eager\\execute.py\u001B[0m in \u001B[0;36mquick_execute\u001B[1;34m(op_name, num_outputs, inputs, attrs, ctx, name)\u001B[0m\n\u001B[0;32m     57\u001B[0m   \u001B[1;32mtry\u001B[0m\u001B[1;33m:\u001B[0m\u001B[1;33m\u001B[0m\u001B[1;33m\u001B[0m\u001B[0m\n\u001B[0;32m     58\u001B[0m     \u001B[0mctx\u001B[0m\u001B[1;33m.\u001B[0m\u001B[0mensure_initialized\u001B[0m\u001B[1;33m(\u001B[0m\u001B[1;33m)\u001B[0m\u001B[1;33m\u001B[0m\u001B[1;33m\u001B[0m\u001B[0m\n\u001B[1;32m---> 59\u001B[1;33m     tensors = pywrap_tfe.TFE_Py_Execute(ctx._handle, device_name, op_name,\n\u001B[0m\u001B[0;32m     60\u001B[0m                                         inputs, attrs, num_outputs)\n\u001B[0;32m     61\u001B[0m   \u001B[1;32mexcept\u001B[0m \u001B[0mcore\u001B[0m\u001B[1;33m.\u001B[0m\u001B[0m_NotOkStatusException\u001B[0m \u001B[1;32mas\u001B[0m \u001B[0me\u001B[0m\u001B[1;33m:\u001B[0m\u001B[1;33m\u001B[0m\u001B[1;33m\u001B[0m\u001B[0m\n",
      "\u001B[1;31mKeyboardInterrupt\u001B[0m: "
     ]
    }
   ]
  },
  {
   "cell_type": "code",
   "metadata": {
    "id": "Pj3lHeKr0hkz"
   },
   "source": [
    "import numpy as np\n",
    "vloss = history.history['val_loss']\n",
    "loss = history.history['loss']\n",
    "x_len = np.arange(len(loss))"
   ],
   "execution_count": 26,
   "outputs": []
  },
  {
   "cell_type": "code",
   "metadata": {
    "colab": {
     "base_uri": "https://localhost:8080/",
     "height": 279
    },
    "id": "cn8WPzeH9n7z",
    "outputId": "2a57c4ec-9cd8-4cd9-9ad4-e0fc80d92565"
   },
   "source": [
    "import matplotlib.pyplot as plt\n",
    "plt.plot(x_len, loss, marker='.', c='red', label='Train-set-loss')\n",
    "plt.plot(x_len, vloss, marker='.', c='blue', label='Validation-set-loss')\n",
    "\n",
    "plt.legend(loc='upper right')\n",
    "plt.grid()\n",
    "plt.xlabel('epoch')\n",
    "plt.ylabel('loss')\n",
    "plt.show()"
   ],
   "execution_count": 27,
   "outputs": [
    {
     "output_type": "display_data",
     "data": {
      "image/png": "[encoded data removed]",
      "text/plain": [
       "<Figure size 432x288 with 1 Axes>"
      ]
     },
     "metadata": {
      "needs_background": "light"
     }
    }
   ]
  },
  {
   "cell_type": "code",
   "metadata": {
    "id": "mLiEdZmS-fww"
   },
   "source": [
    "model.save('cifar.h5')"
   ],
   "execution_count": 28,
   "outputs": []
  },
  {
   "cell_type": "code",
   "metadata": {
    "id": "agaYg3FC_OcZ"
   },
   "source": [
    "model.save('./cifar10.h5')"
   ],
   "execution_count": 30,
   "outputs": []
  },
  {
   "cell_type": "code",
   "metadata": {
    "id": "5pEUEpf1_kUX"
   },
   "source": [
    "model.save_weights('./cifar10_w.h5')"
   ],
   "execution_count": 31,
   "outputs": []
  },
  {
   "cell_type": "code",
   "metadata": {
    "id": "Nr333Y-o_2ot"
   },
   "source": [
    ""
   ],
   "execution_count": null,
   "outputs": []
  }
 ]
}