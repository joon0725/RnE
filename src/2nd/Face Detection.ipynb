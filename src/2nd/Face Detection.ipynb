{
 "cells": [
  {
   "cell_type": "code",
   "execution_count": 14,
   "metadata": {
    "collapsed": true
   },
   "outputs": [],
   "source": [
    "import cv2\n",
    "import mediapipe as mp\n",
    "mp_face_detection = mp.solutions.face_detection\n",
    "mp_drawing = mp.solutions.drawing_utils"
   ]
  },
  {
   "cell_type": "code",
   "execution_count": 19,
   "outputs": [
    {
     "name": "stdout",
     "output_type": "stream",
     "text": [
      "exit\n"
     ]
    }
   ],
   "source": [
    "cap = cv2.VideoCapture(\"../cute.mp4\")\n",
    "i = 0\n",
    "if cap.isOpened():\n",
    "    while True:\n",
    "        with mp_face_detection.FaceDetection(\n",
    "            model_selection = 1, min_detection_confidence = 0.5) as face_detection:\n",
    "            ret, img = cv2.read()\n",
    "            if ret:\n",
    "                cv2.imshow('arst', img)\n",
    "                results = face_detection.process(cv2.cvtColor(img, cv2.COLOR_BGR2RGB))\n",
    "                i += 1\n",
    "                if not results.detections:\n",
    "                    continue\n",
    "                annotated_img = img.copy()\n",
    "                for detection in results.detections:\n",
    "                    print(\"Nose tip\")\n",
    "                    print(mp_face_detection.get_key_point(detection, mp_face_detection.FaceKeyPoint.NOSE_TIP))\n",
    "                    mp_drawing.draw_detection(annotated_img, detection)\n",
    "                cv2.imwrite('./annotated_img'+i+'.png', annotated_img)\n",
    "else:\n",
    "    print(\"exit\")"
   ],
   "metadata": {
    "collapsed": false
   }
  },
  {
   "cell_type": "code",
   "execution_count": null,
   "outputs": [],
   "source": [],
   "metadata": {
    "collapsed": false
   }
  }
 ],
 "metadata": {
  "kernelspec": {
   "display_name": "Python 3",
   "language": "python",
   "name": "python3"
  },
  "language_info": {
   "codemirror_mode": {
    "name": "ipython",
    "version": 2
   },
   "file_extension": ".py",
   "mimetype": "text/x-python",
   "name": "python",
   "nbconvert_exporter": "python",
   "pygments_lexer": "ipython2",
   "version": "2.7.6"
  }
 },
 "nbformat": 4,
 "nbformat_minor": 0
}
