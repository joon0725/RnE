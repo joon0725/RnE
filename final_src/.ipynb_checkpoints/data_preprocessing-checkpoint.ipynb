{
 "cells": [
  {
   "cell_type": "code",
   "execution_count": 120,
   "id": "b2a0f2ea",
   "metadata": {},
   "outputs": [],
   "source": [
    "import cv2\n",
    "import mediapipe as mp\n"
   ]
  },
  {
   "cell_type": "code",
   "execution_count": 121,
   "id": "4a097da1",
   "metadata": {},
   "outputs": [],
   "source": [
    "mp_drawing = mp.solutions.drawing_utils\n",
    "mp_drawing_styles = mp.solutions.drawing_styles\n",
    "mp_face_mesh = mp.solutions.face_mesh\n",
    "mp_hands = mp.solutions.hands\n",
    "\n"
   ]
  },
  {
   "cell_type": "code",
   "execution_count": 183,
   "id": "27f80358",
   "metadata": {},
   "outputs": [],
   "source": [
    "def getFrames(wnum, seq): # 차례대로 단어 번호, 그 안의 영상 번호\n",
    "    cap = cv2.VideoCapture(f\"../dataset/{str(wnum).zfill(2)}/{str(seq).zfill(2)}_{str(wnum).zfill(2)}.MP4\")\n",
    "    max_len = 100\n",
    "\n",
    "    width = cap.get(cv2.CAP_PROP_FRAME_WIDTH)\n",
    "    height = cap.get(cv2.CAP_PROP_FRAME_HEIGHT)\n",
    "    fps = cap.get(cv2.CAP_PROP_FPS)\n",
    "\n",
    "    frames = []\n",
    "\n",
    "    ftime = 0\n",
    "    fgap = 1\n",
    "    if int(fps) > 15:\n",
    "        fgap = 2\n",
    "\n",
    "    while(cap.isOpened()):\n",
    "        ret, image = cap.read()\n",
    "        if not ret:\n",
    "            break\n",
    "\n",
    "        if ftime % fgap == 0:\n",
    "            image = cv2.normalize(src=image, dst=None, alpha=0, beta=255, norm_type=cv2.NORM_MINMAX, dtype=cv2.CV_8U)\n",
    "            frames.append(image)\n",
    "        ftime += 1\n",
    "\n",
    "    while(len(frames) < max_len):\n",
    "        frames.append(0)\n",
    "\n",
    "    return frames"
   ]
  },
  {
   "cell_type": "code",
   "execution_count": 184,
   "id": "bad79297",
   "metadata": {},
   "outputs": [],
   "source": [
    "def facemesh_video(wnum, seq):\n",
    "    \n",
    "    facemesh_payload = []\n",
    "    with mp_face_mesh.FaceMesh(\n",
    "        static_image_mode=True,\n",
    "        max_num_faces=1,\n",
    "        refine_landmarks=True,\n",
    "        min_detection_confidence=0.5) as face_mesh:\n",
    "        print(getFrames(wnum, seq)[38])\n",
    "    \n",
    "        for idx, frame in enumerate(getFrames(wnum, seq)):\n",
    "            # Convert the BGR image to RGB before processing.\n",
    "            # print()\n",
    "            # print(len(facemesh_payload))\n",
    "            if type(frame) == int: # 프레임이 존재하지 않으면\n",
    "                if idx == 0: # 첫 프레임부터 안 보이면 0 넣는다.\n",
    "                    facemesh_payload.append(0)\n",
    "                    continue\n",
    "                \n",
    "                # print(f'{idx}번째 프레임에는 프레임이 감지되지 않음')\n",
    "                facemesh_payload.append(facemesh_payload[idx-1].copy())\n",
    "                continue\n",
    "            \n",
    "            results = face_mesh.process(cv2.cvtColor(frame, cv2.COLOR_BGR2RGB))\n",
    "            \n",
    "            if not results.multi_face_landmarks: # 혹은 프레임에서 얼굴 감지가 안 되면 (영상이 짧음)\n",
    "                if idx == 0: # 첫 프레임부터 안 보이면 0 넣는다.\n",
    "                    facemesh_payload.append(0)\n",
    "                    continue\n",
    "                \n",
    "                # print(f'{idx}번째 프레임에는 얼굴이 감지되지 않음')\n",
    "                facemesh_payload.append(facemesh_payload[idx-1].copy())\n",
    "                continue\n",
    "            \n",
    "            frame_landmarks = []\n",
    "            \n",
    "            for lm in results.multi_face_landmarks[0].landmark:\n",
    "                x = lm.x\n",
    "                y = lm.y\n",
    "                z = lm.z\n",
    "                \n",
    "                frame_landmarks.append([x, y, z])\n",
    "            \n",
    "            #print(f'{idx}번째 프레임 :', frame)\n",
    "            #print(f'{idx}번째 프레임, 이 프레임에서 잡히는 랜드마크 갯수 :',len(a[0].landmark))\n",
    "            \n",
    "#             print(frame_landmarks)\n",
    "            facemesh_payload.append(frame_landmarks)\n",
    "    \n",
    "        return facemesh_payload"
   ]
  },
  {
   "cell_type": "code",
   "execution_count": 185,
   "id": "82951cb9",
   "metadata": {},
   "outputs": [
    {
     "name": "stdout",
     "output_type": "stream",
     "text": [
      "0\n",
      "478\n"
     ]
    }
   ],
   "source": [
    "facemesh_pay = facemesh_video(1, 1)\n",
    "print(len(facemesh_pay[0]))"
   ]
  },
  {
   "cell_type": "code",
   "execution_count": null,
   "id": "cec491ef",
   "metadata": {},
   "outputs": [],
   "source": []
  },
  {
   "cell_type": "code",
   "execution_count": null,
   "id": "9680c868",
   "metadata": {
    "scrolled": false
   },
   "outputs": [],
   "source": []
  },
  {
   "cell_type": "code",
   "execution_count": 187,
   "id": "eab85266",
   "metadata": {},
   "outputs": [],
   "source": [
    "def handpose_video(wnum, seq):\n",
    "    handpose_payload = [] # 0번 : 왼쪽 손, 1번: 오른쪽 손\n",
    "    \n",
    "    with mp_hands.Hands(\n",
    "        static_image_mode=True,\n",
    "        max_num_hands=2,\n",
    "        min_detection_confidence=0.5) as hands:\n",
    "\n",
    "        for idx, frame in enumerate(getFrames(wnum, seq)):\n",
    "            # print()\n",
    "            # print(len(handpose_payload))\n",
    "                \n",
    "            if type(frame) == int: # case 1: 프레임이 존재하지 않으면\n",
    "                if idx == 0: # 첫 프레임부터 안 보이면 0 넣는다.\n",
    "                    handpose_payload.append([0, 0]) \n",
    "                    continue\n",
    "#                 print(len(handpose_payload))\n",
    "                # print(f'{idx}번째 프레임에는 프레임이 감지되지 않음')\n",
    "                handpose_payload.append(handpose_payload[idx-1].copy())\n",
    "                continue\n",
    "            \n",
    "            results = hands.process(frame)\n",
    "            if not results.multi_hand_landmarks: # case 2: 프레임은 있는데 손 인식이 아예 안됨\n",
    "                if idx == 0:\n",
    "                    handpose_payload.append([0, 0])\n",
    "                    continue\n",
    "                # print(f'{idx}번째 프레임에는 손이 둘 다 감지되지 않음')\n",
    "                handpose_payload.append(handpose_payload[idx-1].copy())\n",
    "                continue\n",
    "            \n",
    "            handpose_payload.append(handpose_payload[idx-1].copy())\n",
    "            \n",
    "            for hand in results.multi_handedness: # case 3: 감지된 손 다 돌면서 처리\n",
    "                if len(results.multi_handedness) == 1: # 감지된 손이 1개\n",
    "                    if hand.classification[0].label == \"Left\": # 감지된 한 손이 왼손\n",
    "                        # print(f'{idx}번째 프레임에서 왼손 감지')\n",
    "                        frame_landmarks_left = []\n",
    "                        for lm in results.multi_hand_landmarks[0].landmark:\n",
    "                            x = lm.x\n",
    "                            y = lm.y\n",
    "                            z = lm.z\n",
    "                            frame_landmarks_left.append([x, y, z])\n",
    "                        # print(f'{len(frame_landmarks_left)}개의 특징점이 왼손에서 감지')\n",
    "                        handpose_payload[idx][0] = frame_landmarks_left\n",
    "                        \n",
    "                    else: # 감지된 한 손이 오른손\n",
    "                        # print(f'{idx}번째 프레임에서 오른손 감지')\n",
    "                        frame_landmarks_right = []\n",
    "                        for lm in results.multi_hand_landmarks[0].landmark:\n",
    "                            x = lm.x\n",
    "                            y = lm.y\n",
    "                            z = lm.z\n",
    "                            frame_landmarks_right.append([x, y, z])\n",
    "                        # print(f'{len(frame_landmarks_left)}개의 특징점이 오른손에서 감지')\n",
    "                        handpose_payload[idx][1] = frame_landmarks_right\n",
    "                        \n",
    "                        \n",
    "                else: # 두 손 모두 감지\n",
    "                    if hand.classification[0].label == \"Left\": # 감지된 한 손이 왼손\n",
    "                        # print(f'{idx}번째 프레임에서 왼손 감지')\n",
    "                        frame_landmarks_left = []\n",
    "                        for lm in results.multi_hand_landmarks[0].landmark:\n",
    "                            x = lm.x\n",
    "                            y = lm.y\n",
    "                            z = lm.z\n",
    "                            frame_landmarks_left.append([x, y, z])\n",
    "                        # print(f'{len(frame_landmarks_left)}개의 특징점이 왼손에서 감지')\n",
    "                        handpose_payload[idx][0] = frame_landmarks_left\n",
    "                        \n",
    "                    else: # 감지된 한 손이 오른손\n",
    "                        # print(f'{idx}번째 프레임에서 오른손 감지')\n",
    "                        frame_landmarks_right = []\n",
    "                        for lm in results.multi_hand_landmarks[0].landmark:\n",
    "                            x = lm.x\n",
    "                            y = lm.y\n",
    "                            z = lm.z\n",
    "                            frame_landmarks_right.append([x, y, z])\n",
    "                        # print(f'{len(frame_landmarks_left)}개의 특징점이 오른손에서 감지')\n",
    "                        handpose_payload[idx][1] = frame_landmarks_right\n",
    "                \n",
    "                        \n",
    "    return handpose_payload\n",
    "        "
   ]
  },
  {
   "cell_type": "code",
   "execution_count": 188,
   "id": "40a2410f",
   "metadata": {
    "scrolled": true
   },
   "outputs": [],
   "source": [
    "handpose_pay = handpose_video(1, 2)"
   ]
  },
  {
   "cell_type": "code",
   "execution_count": 244,
   "id": "9b44a867",
   "metadata": {},
   "outputs": [],
   "source": [
    "def points_to_displacement(face_points, face_count, hand_points, hand_count): #face_count: 얼굴 특징점 갯수, hand_count: 한 손 특징점 갯수\n",
    "    displacement_payload = []\n",
    "    \n",
    "    # face mash\n",
    "        \n",
    "    nz = False\n",
    "    for idx, frame in enumerate(face_points):\n",
    "#        print(f\"얼굴 {idx}프레임: {frame}\")\n",
    "        if type(frame) == int:\n",
    "            print(\"인식 안됨\")\n",
    "            displacement_payload.append({\"face\":[[0,0,0] for _ in range(face_count)]})\n",
    "        elif not nz:\n",
    "#            print(\"처음 인식됨\")\n",
    "            nz = True\n",
    "            displacement_payload.append({\"face\":[[0,0,0] for _ in range(face_count)]})\n",
    "        else:\n",
    "            displacements = []\n",
    "            for i in range(face_count):\n",
    "                # print(f\"{frame[i][0]}-{points[idx][i][0]}\")\n",
    "                displacements.append([[frame[i][0]-face_points[idx-1][i][0],\n",
    "                                       frame[i][1]-face_points[idx-1][i][1],\n",
    "                                       frame[i][2]-face_points[idx-1][i][2]]])\n",
    "            # print(displacements)\n",
    "            displacement_payload.append({\"face\":displacements})\n",
    "            \n",
    "            \n",
    "    # hand pose estimation\n",
    "    lr = [\"left\", \"right\"]\n",
    "    nz = [False, False]\n",
    "    for idx, frame in enumerate(hand_points):\n",
    "        hand_displacements = {}\n",
    "        for i, hand in enumerate(frame):\n",
    "            if type(hand) == int:\n",
    "                print(f\"{idx} 인식 안됨\")\n",
    "                hand_displacements[lr[i]] = [[0,0,0] for _ in range(hand_count)]\n",
    "            elif not nz[i]:\n",
    "                print(f\"{idx}: {lr[i]} 처음 인식됨\")\n",
    "                hand_displacements[lr[i]] = [[0,0,0] for _ in range(hand_count)]\n",
    "                nz[i] = True\n",
    "            else:\n",
    "                for j, point in enumerate(hand):\n",
    "                    hand_displacements[lr[i]] = [point[0]-hand_points[idx-1][i][j][0],\n",
    "                                                 point[1]-hand_points[idx-1][i][j][1],\n",
    "                                                 point[2]-hand_points[idx-1][i][j][2]]\n",
    "            displacement_payload[idx][\"hands\"] = hand_displacements\n",
    "            \n",
    "    return displacement_payload"
   ]
  },
  {
   "cell_type": "code",
   "execution_count": 245,
   "id": "4e327310",
   "metadata": {},
   "outputs": [
    {
     "name": "stdout",
     "output_type": "stream",
     "text": [
      "[0, 0]\n"
     ]
    }
   ],
   "source": [
    "print(handpose_pay[0])"
   ]
  },
  {
   "cell_type": "code",
   "execution_count": 246,
   "id": "0f6914be",
   "metadata": {
    "scrolled": true
   },
   "outputs": [
    {
     "name": "stdout",
     "output_type": "stream",
     "text": [
      "0 인식 안됨\n",
      "0 인식 안됨\n",
      "1 인식 안됨\n",
      "1 인식 안됨\n",
      "2 인식 안됨\n",
      "2 인식 안됨\n",
      "3 인식 안됨\n",
      "3 인식 안됨\n",
      "4 인식 안됨\n",
      "4 인식 안됨\n",
      "5 인식 안됨\n",
      "5 인식 안됨\n",
      "6 인식 안됨\n",
      "6 인식 안됨\n",
      "7 인식 안됨\n",
      "7 인식 안됨\n",
      "8 인식 안됨\n",
      "8 인식 안됨\n",
      "9 인식 안됨\n",
      "9 인식 안됨\n",
      "10 인식 안됨\n",
      "10 인식 안됨\n",
      "11 인식 안됨\n",
      "11 인식 안됨\n",
      "12 인식 안됨\n",
      "12 인식 안됨\n",
      "13 인식 안됨\n",
      "13 인식 안됨\n",
      "14 인식 안됨\n",
      "14 인식 안됨\n",
      "15: left 처음 인식됨\n",
      "15 인식 안됨\n",
      "16 인식 안됨\n",
      "17 인식 안됨\n",
      "18 인식 안됨\n",
      "19 인식 안됨\n",
      "20 인식 안됨\n",
      "21 인식 안됨\n",
      "22 인식 안됨\n",
      "23 인식 안됨\n",
      "24 인식 안됨\n",
      "25 인식 안됨\n",
      "26 인식 안됨\n",
      "27: right 처음 인식됨\n"
     ]
    }
   ],
   "source": [
    "displacements_pay = points_to_displacement(facemesh_pay, 478, handpose_pay, 21)"
   ]
  },
  {
   "cell_type": "code",
   "execution_count": 235,
   "id": "ac80b477",
   "metadata": {},
   "outputs": [
    {
     "name": "stdout",
     "output_type": "stream",
     "text": [
      "{'left': [[0, 0, 0], [0, 0, 0], [0, 0, 0], [0, 0, 0], [0, 0, 0], [0, 0, 0], [0, 0, 0], [0, 0, 0], [0, 0, 0], [0, 0, 0], [0, 0, 0], [0, 0, 0], [0, 0, 0], [0, 0, 0], [0, 0, 0], [0, 0, 0], [0, 0, 0], [0, 0, 0], [0, 0, 0], [0, 0, 0], [0, 0, 0]], 'right': [[0, 0, 0], [0, 0, 0], [0, 0, 0], [0, 0, 0], [0, 0, 0], [0, 0, 0], [0, 0, 0], [0, 0, 0], [0, 0, 0], [0, 0, 0], [0, 0, 0], [0, 0, 0], [0, 0, 0], [0, 0, 0], [0, 0, 0], [0, 0, 0], [0, 0, 0], [0, 0, 0], [0, 0, 0], [0, 0, 0], [0, 0, 0]]}\n"
     ]
    }
   ],
   "source": [
    "print(displacements_pay[0][\"hands\"])"
   ]
  },
  {
   "cell_type": "code",
   "execution_count": null,
   "id": "247e6563",
   "metadata": {},
   "outputs": [],
   "source": []
  }
 ],
 "metadata": {
  "kernelspec": {
   "display_name": "Python 3 (ipykernel)",
   "language": "python",
   "name": "python3"
  },
  "language_info": {
   "codemirror_mode": {
    "name": "ipython",
    "version": 3
   },
   "file_extension": ".py",
   "mimetype": "text/x-python",
   "name": "python",
   "nbconvert_exporter": "python",
   "pygments_lexer": "ipython3",
   "version": "3.10.6"
  }
 },
 "nbformat": 4,
 "nbformat_minor": 5
}
