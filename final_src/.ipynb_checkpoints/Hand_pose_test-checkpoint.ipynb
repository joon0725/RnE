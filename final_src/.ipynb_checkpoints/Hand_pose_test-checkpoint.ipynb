{
 "cells": [
  {
   "cell_type": "code",
   "execution_count": 15,
   "id": "6bec1b04",
   "metadata": {},
   "outputs": [],
   "source": [
    "# TODO\n",
    "# 데이터셋은 1280 * 720임.\n",
    "# 15프레임이도 있고 30플레임인것도 있는데 아무래도 다 15프레임으로 맍추는 것이 옳다고 봄\n",
    "# 아무래도 얼굴, 손, 손가락 해서 n개 특징점의 위치를 ㄹ차례로 ㅣ록을 해야 함\n",
    "# 앞에서 어느정도 짤라서 길이도 맞춰야 됨\n",
    "\n",
    "\n",
    "import cv2\n",
    "import mediapipe as mp\n"
   ]
  },
  {
   "cell_type": "code",
   "execution_count": 16,
   "id": "8df33088",
   "metadata": {},
   "outputs": [],
   "source": [
    "\n",
    "mp_drawing = mp.solutions.drawing_utils\n",
    "mp_drawing_styles = mp.solutions.drawing_styles\n",
    "mp_hands = mp.solutions.hands\n"
   ]
  },
  {
   "cell_type": "code",
   "execution_count": 17,
   "id": "0872588e",
   "metadata": {},
   "outputs": [],
   "source": [
    "\n",
    "# # 이미지 파일의 경우을 사용하세요.:\n",
    "IMAGE_FILES = ['./data/2022-12-15-152254.jpg']\n"
   ]
  },
  {
   "cell_type": "code",
   "execution_count": 47,
   "id": "acfea37c",
   "metadata": {},
   "outputs": [
    {
     "ename": "NameError",
     "evalue": "name 'results' is not defined",
     "output_type": "error",
     "traceback": [
      "\u001b[0;31m---------------------------------------------------------------------------\u001b[0m",
      "\u001b[0;31mNameError\u001b[0m                                 Traceback (most recent call last)",
      "Cell \u001b[0;32mIn [47], line 14\u001b[0m\n\u001b[1;32m      8\u001b[0m     image \u001b[38;5;241m=\u001b[39m cv2\u001b[38;5;241m.\u001b[39mflip(images[\u001b[38;5;241m0\u001b[39m], \u001b[38;5;241m1\u001b[39m)\n\u001b[1;32m      9\u001b[0m     \u001b[38;5;66;03m# 작업 전에 BGR 이미지를 RGB로 변환합니다.\u001b[39;00m\n\u001b[1;32m     10\u001b[0m \u001b[38;5;66;03m#    results = hands.process(cv2.cvtColor(image, cv2.COLOR_BGR2RGB))\u001b[39;00m\n\u001b[1;32m     11\u001b[0m \n\u001b[1;32m     12\u001b[0m     \u001b[38;5;66;03m# 손으로 프린트하고 이미지에 손 랜드마크를 그립니다.\u001b[39;00m\n\u001b[1;32m     13\u001b[0m \u001b[38;5;66;03m#     print('Handedness:', results.multi_handedness)\u001b[39;00m\n\u001b[0;32m---> 14\u001b[0m     \u001b[38;5;28;01mif\u001b[39;00m \u001b[38;5;129;01mnot\u001b[39;00m \u001b[43mresults\u001b[49m\u001b[38;5;241m.\u001b[39mmulti_hand_landmarks:\n\u001b[1;32m     15\u001b[0m       \u001b[38;5;28;01mcontinue\u001b[39;00m\n\u001b[1;32m     16\u001b[0m     image_height, image_width, _ \u001b[38;5;241m=\u001b[39m image\u001b[38;5;241m.\u001b[39mshape\n",
      "\u001b[0;31mNameError\u001b[0m: name 'results' is not defined"
     ]
    }
   ],
   "source": [
    "\n",
    "with mp_hands.Hands(\n",
    "    static_image_mode=True,\n",
    "    max_num_hands=2,\n",
    "    min_detection_confidence=0.5) as hands:\n",
    "    \n",
    "  for idx, file in enumerate(IMAGE_FILES):\n",
    "    # 이미지를 읽어 들이고, 보기 편하게 이미지를 좌우 반전합니다.\n",
    "    image = cv2.flip(images[0], 1)\n",
    "    # 작업 전에 BGR 이미지를 RGB로 변환합니다.\n",
    "#    results = hands.process(cv2.cvtColor(image, cv2.COLOR_BGR2RGB))\n",
    "    results = hands.process(image)\n",
    "\n",
    "    # 손으로 프린트하고 이미지에 손 랜드마크를 그립니다.\n",
    "#     print('Handedness:', results.multi_handedness)\n",
    "    if not results.multi_hand_landmarks:\n",
    "      continue\n",
    "    image_height, image_width, _ = image.shape\n",
    "    annotated_image = image.copy()\n",
    "    \n",
    "#     print(results)\n",
    "#     print(len(results))\n",
    "    print(\"gay\")\n",
    "    a, b = results.multi_hand_landmarks\n",
    "#     a = list(a)\n",
    "    \n",
    "#     print(list(results.multi_hand_landmarks))\n",
    "#     print(len(a[0]))\n",
    "    print(a.landmark[0].__dir__())\n",
    "    \n",
    "    print(a.landmark[mp_hands.HandLandmark.WRIST])\n",
    "    \n",
    "          \n",
    "    for hand_landmarks in results.multi_hand_landmarks:\n",
    "#       print('hand_landmarks:', hand_landmarks)\n",
    "#mn,b,b m,nb bv\n",
    "    \n",
    "#       print(\n",
    "#           f'Index finger tip coordinates: (',\n",
    "#           f'{hand_landmarks.landmark[mp_hands.HandLandmark.INDEX_FINGER_TIP].x * image_width}, '\n",
    "#           f'{hand_landmarks.landmark[mp_hands.HandLandmark.INDEX_FINGER_TIP].y * image_height})'\n",
    "#       )|\n",
    "        \n",
    "      mp_drawing.draw_landmarks(\n",
    "          annotated_image,\n",
    "          hand_landmarks,\n",
    "          mp_hands.HAND_CONNECTIONS,\n",
    "          mp_drawing_styles.get_default_hand_landmarks_style(),\n",
    "          mp_drawing_styles.get_default_hand_connections_style())\n",
    "    \n",
    "#    cv2.imwrite(\n",
    "#        '/tmp/annotated_image' + str(idx) + '.png', cv2.flip(annotated_image, 1))\n"
   ]
  },
  {
   "cell_type": "code",
   "execution_count": 35,
   "id": "1168faf7",
   "metadata": {},
   "outputs": [],
   "source": [
    "def getFrames(wnum, seq):\n",
    "    cap = cv2.VideoCapture(f\"./dataset/{str(wnum).zfill(2)}/{str(seq).zfill(2)}_{str(wnum).zfill(2)}.MP4\")\n",
    "    max_len = 150\n",
    "\n",
    "    width = cap.get(cv2.CAP_PROP_FRAME_WIDTH)\n",
    "    height = cap.get(cv2.CAP_PROP_FRAME_HEIGHT)\n",
    "    fps = cap.get(cv2.CAP_PROP_FPS)\n",
    "\n",
    "    frames = []\n",
    "\n",
    "    ftime = 0\n",
    "    fgap = 1\n",
    "    if int(fps) > 15:\n",
    "        fgap = 2\n",
    "\n",
    "    while(cap.isOpened()):\n",
    "        ret, image = cap.read()\n",
    "        if not ret:\n",
    "            break\n",
    "\n",
    "        if ftime % fgap == 0:\n",
    "            frames.append(image)\n",
    "        ftime += 1\n",
    "\n",
    "    while(len(frames) < max_len):\n",
    "        frames.append(0)\n",
    "\n",
    "    return frames"
   ]
  },
  {
   "cell_type": "code",
   "execution_count": 36,
   "id": "a6954708",
   "metadata": {},
   "outputs": [],
   "source": [
    "image = getFrames(1,0)"
   ]
  },
  {
   "cell_type": "code",
   "execution_count": null,
   "id": "1b6c2322",
   "metadata": {},
   "outputs": [],
   "source": []
  }
 ],
 "metadata": {
  "kernelspec": {
   "display_name": "Python 3 (ipykernel)",
   "language": "python",
   "name": "python3"
  },
  "language_info": {
   "codemirror_mode": {
    "name": "ipython",
    "version": 3
   },
   "file_extension": ".py",
   "mimetype": "text/x-python",
   "name": "python",
   "nbconvert_exporter": "python",
   "pygments_lexer": "ipython3",
   "version": "3.10.6"
  }
 },
 "nbformat": 4,
 "nbformat_minor": 5
}
