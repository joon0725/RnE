{
 "cells": [
  {
   "cell_type": "code",
   "execution_count": 1,
   "id": "848d7873",
   "metadata": {},
   "outputs": [],
   "source": [
    "def points_to_displacement(points):\n",
    "    displacement_payload = []\n",
    "    \n",
    "    # keypoints 개수\n",
    "    mx = 0\n",
    "    for frame in points:\n",
    "        mx = max(mx, len(frame))\n",
    "    \n",
    "    \n",
    "    for idx, frame in points:\n",
    "        if type(frame) == int:\n",
    "            displacement_payload.append([[0,0,0] for _ in range(mx)])\n",
    "            continue\n",
    "        \n",
    "        displacements = []\n",
    "        for i in range(mx):\n",
    "            displacements.append([frame[i][0]-points[idx][i][0],frame[i][1]-points[idx][i][1],frame[i][2]-points[idx][i][2]])\n",
    "    \n",
    "    return displacement_payload"
   ]
  },
  {
   "cell_type": "code",
   "execution_count": null,
   "id": "82cfe021",
   "metadata": {},
   "outputs": [],
   "source": []
  }
 ],
 "metadata": {
  "kernelspec": {
   "display_name": "Python 3 (ipykernel)",
   "language": "python",
   "name": "python3"
  },
  "language_info": {
   "codemirror_mode": {
    "name": "ipython",
    "version": 3
   },
   "file_extension": ".py",
   "mimetype": "text/x-python",
   "name": "python",
   "nbconvert_exporter": "python",
   "pygments_lexer": "ipython3",
   "version": "3.10.6"
  }
 },
 "nbformat": 4,
 "nbformat_minor": 5
}
